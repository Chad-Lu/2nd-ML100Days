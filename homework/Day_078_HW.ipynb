{
 "cells": [
  {
   "cell_type": "markdown",
   "metadata": {},
   "source": [
    "## Work\n",
    "1. 請嘗試將 preproc_x 替換成以每筆資料的 min/max 進行標準化至 -1 ~ 1 間，再進行訓練\n",
    "2. 請嘗試將 mlp 疊更深 (e.g 5~10 層)，進行訓練後觀察 learning curve 的走勢\n",
    "3. (optional) 請改用 GPU 進行訓練 (如果你有 GPU 的話)，比較使用 CPU 與 GPU 的訓練速度"
   ]
  },
  {
   "cell_type": "code",
   "execution_count": 1,
   "metadata": {},
   "outputs": [
    {
     "data": {
      "text/plain": [
       "'\\nYour code here (optional)\\n確認硬體資源\\n'"
      ]
     },
     "execution_count": 1,
     "metadata": {},
     "output_type": "execute_result"
    }
   ],
   "source": [
    "## \n",
    "\"\"\"\n",
    "Your code here (optional)\n",
    "確認硬體資源\n",
    "\"\"\"\n"
   ]
  },
  {
   "cell_type": "code",
   "execution_count": 2,
   "metadata": {},
   "outputs": [
    {
     "name": "stderr",
     "output_type": "stream",
     "text": [
      "Using TensorFlow backend.\n"
     ]
    }
   ],
   "source": [
    "import os\n",
    "import keras\n",
    "\n",
    "# 請嘗試設定 GPU：os.environ\n",
    "os.environ[\"CUDA_VISIBLE_DEVICES\"] = \"0\""
   ]
  },
  {
   "cell_type": "code",
   "execution_count": 3,
   "metadata": {},
   "outputs": [],
   "source": [
    "train, test = keras.datasets.cifar10.load_data()"
   ]
  },
  {
   "cell_type": "code",
   "execution_count": 4,
   "metadata": {},
   "outputs": [],
   "source": [
    "## 資料前處理\n",
    "\"\"\"\n",
    "Your code here\n",
    "\"\"\"\n",
    "def preproc_x(x, flatten=True):\n",
    "    x = x / 255.\n",
    "    if flatten:\n",
    "        x = x.reshape((len(x), -1))\n",
    "    return x\n",
    "\n",
    "def preproc_y(y, num_classes=10):\n",
    "    if y.shape[-1] == 1:\n",
    "        y = keras.utils.to_categorical(y, num_classes)\n",
    "    return y "
   ]
  },
  {
   "cell_type": "code",
   "execution_count": 5,
   "metadata": {},
   "outputs": [],
   "source": [
    "x_train, y_train = train\n",
    "x_test, y_test = test\n",
    "\n",
    "# Preproc the inputs\n",
    "x_train = preproc_x(x_train)\n",
    "x_test = preproc_x(x_test)\n",
    "\n",
    "# Preprc the outputs\n",
    "y_train = preproc_y(y_train)\n",
    "y_test = preproc_y(y_test)"
   ]
  },
  {
   "cell_type": "code",
   "execution_count": 6,
   "metadata": {},
   "outputs": [],
   "source": [
    "\"\"\"Code Here\n",
    "建立你的神經網路\n",
    "\"\"\"\n",
    "def build_mlp(input_shape, output_units=10, num_neurons=[1024, 512, 256, 128, 64, 32, 16]):\n",
    "    input_layer = keras.layers.Input(input_shape)\n",
    "    \n",
    "    for i, n_units in enumerate(num_neurons):\n",
    "        if i == 0:\n",
    "            x = keras.layers.Dense(units=n_units, activation=\"relu\", name=\"hidden_layer\"+str(i+1))(input_layer)\n",
    "        else:\n",
    "            x = keras.layers.Dense(units=n_units, activation=\"relu\", name=\"hidden_layer\"+str(i+1))(x)\n",
    "    \n",
    "    out = keras.layers.Dense(units=output_units, activation=\"softmax\", name=\"output\")(x)\n",
    "    \n",
    "    model = keras.models.Model(inputs=[input_layer], outputs=[out])\n",
    "    return model"
   ]
  },
  {
   "cell_type": "code",
   "execution_count": 7,
   "metadata": {},
   "outputs": [
    {
     "name": "stdout",
     "output_type": "stream",
     "text": [
      "WARNING:tensorflow:From C:\\Users\\chad\\Anaconda3\\lib\\site-packages\\tensorflow\\python\\framework\\op_def_library.py:263: colocate_with (from tensorflow.python.framework.ops) is deprecated and will be removed in a future version.\n",
      "Instructions for updating:\n",
      "Colocations handled automatically by placer.\n",
      "_________________________________________________________________\n",
      "Layer (type)                 Output Shape              Param #   \n",
      "=================================================================\n",
      "input_1 (InputLayer)         (None, 3072)              0         \n",
      "_________________________________________________________________\n",
      "hidden_layer1 (Dense)        (None, 1024)              3146752   \n",
      "_________________________________________________________________\n",
      "hidden_layer2 (Dense)        (None, 512)               524800    \n",
      "_________________________________________________________________\n",
      "hidden_layer3 (Dense)        (None, 256)               131328    \n",
      "_________________________________________________________________\n",
      "hidden_layer4 (Dense)        (None, 128)               32896     \n",
      "_________________________________________________________________\n",
      "hidden_layer5 (Dense)        (None, 64)                8256      \n",
      "_________________________________________________________________\n",
      "hidden_layer6 (Dense)        (None, 32)                2080      \n",
      "_________________________________________________________________\n",
      "hidden_layer7 (Dense)        (None, 16)                528       \n",
      "_________________________________________________________________\n",
      "output (Dense)               (None, 10)                170       \n",
      "=================================================================\n",
      "Total params: 3,846,810\n",
      "Trainable params: 3,846,810\n",
      "Non-trainable params: 0\n",
      "_________________________________________________________________\n"
     ]
    }
   ],
   "source": [
    "model = build_mlp(input_shape=x_train.shape[1:])\n",
    "model.summary()"
   ]
  },
  {
   "cell_type": "code",
   "execution_count": 8,
   "metadata": {},
   "outputs": [],
   "source": [
    "## 超參數設定\n",
    "LEARNING_RATE = 0.001\n",
    "EPOCHS = 100\n",
    "BATCH_SIZE = 256"
   ]
  },
  {
   "cell_type": "code",
   "execution_count": 9,
   "metadata": {},
   "outputs": [],
   "source": [
    "optimizer = keras.optimizers.Adam(lr=LEARNING_RATE)\n",
    "model.compile(loss=\"categorical_crossentropy\", metrics=[\"accuracy\"], optimizer=optimizer)"
   ]
  },
  {
   "cell_type": "code",
   "execution_count": 10,
   "metadata": {},
   "outputs": [
    {
     "name": "stdout",
     "output_type": "stream",
     "text": [
      "WARNING:tensorflow:From C:\\Users\\chad\\Anaconda3\\lib\\site-packages\\tensorflow\\python\\ops\\math_ops.py:3066: to_int32 (from tensorflow.python.ops.math_ops) is deprecated and will be removed in a future version.\n",
      "Instructions for updating:\n",
      "Use tf.cast instead.\n",
      "Train on 50000 samples, validate on 10000 samples\n",
      "Epoch 1/100\n",
      "50000/50000 [==============================] - 7s 136us/step - loss: 2.2806 - acc: 0.1273 - val_loss: 2.1723 - val_acc: 0.2120\n",
      "Epoch 2/100\n",
      "50000/50000 [==============================] - 4s 76us/step - loss: 2.0000 - acc: 0.2640 - val_loss: 1.8754 - val_acc: 0.2931\n",
      "Epoch 3/100\n",
      "50000/50000 [==============================] - 4s 74us/step - loss: 1.8290 - acc: 0.3332 - val_loss: 1.7554 - val_acc: 0.3673\n",
      "Epoch 4/100\n",
      "50000/50000 [==============================] - 4s 76us/step - loss: 1.7298 - acc: 0.3694 - val_loss: 1.6654 - val_acc: 0.3981\n",
      "Epoch 5/100\n",
      "50000/50000 [==============================] - 4s 76us/step - loss: 1.6526 - acc: 0.4034 - val_loss: 1.5921 - val_acc: 0.4306\n",
      "Epoch 6/100\n",
      "50000/50000 [==============================] - 4s 75us/step - loss: 1.5905 - acc: 0.4277 - val_loss: 1.5893 - val_acc: 0.4317\n",
      "Epoch 7/100\n",
      "50000/50000 [==============================] - 4s 74us/step - loss: 1.5335 - acc: 0.4483 - val_loss: 1.5408 - val_acc: 0.4530\n",
      "Epoch 8/100\n",
      "50000/50000 [==============================] - 4s 74us/step - loss: 1.4966 - acc: 0.4634 - val_loss: 1.5069 - val_acc: 0.4627\n",
      "Epoch 9/100\n",
      "50000/50000 [==============================] - 4s 74us/step - loss: 1.4552 - acc: 0.4793 - val_loss: 1.4745 - val_acc: 0.4777\n",
      "Epoch 10/100\n",
      "50000/50000 [==============================] - 4s 73us/step - loss: 1.4218 - acc: 0.4915 - val_loss: 1.4737 - val_acc: 0.4749\n",
      "Epoch 11/100\n",
      "50000/50000 [==============================] - 4s 74us/step - loss: 1.3885 - acc: 0.5027 - val_loss: 1.4419 - val_acc: 0.4900\n",
      "Epoch 12/100\n",
      "50000/50000 [==============================] - 4s 74us/step - loss: 1.3657 - acc: 0.5094 - val_loss: 1.4346 - val_acc: 0.4963\n",
      "Epoch 13/100\n",
      "50000/50000 [==============================] - 4s 76us/step - loss: 1.3308 - acc: 0.5238 - val_loss: 1.4271 - val_acc: 0.4955\n",
      "Epoch 14/100\n",
      "50000/50000 [==============================] - 4s 74us/step - loss: 1.2990 - acc: 0.5351 - val_loss: 1.3933 - val_acc: 0.5125\n",
      "Epoch 15/100\n",
      "50000/50000 [==============================] - 4s 73us/step - loss: 1.2759 - acc: 0.5446 - val_loss: 1.3904 - val_acc: 0.5114\n",
      "Epoch 16/100\n",
      "50000/50000 [==============================] - 4s 74us/step - loss: 1.2381 - acc: 0.5564 - val_loss: 1.3912 - val_acc: 0.5111\n",
      "Epoch 17/100\n",
      "50000/50000 [==============================] - 4s 74us/step - loss: 1.2165 - acc: 0.5641 - val_loss: 1.4282 - val_acc: 0.5002\n",
      "Epoch 18/100\n",
      "50000/50000 [==============================] - 4s 74us/step - loss: 1.1898 - acc: 0.5742 - val_loss: 1.4034 - val_acc: 0.5078\n",
      "Epoch 19/100\n",
      "50000/50000 [==============================] - 4s 74us/step - loss: 1.1584 - acc: 0.5829 - val_loss: 1.3819 - val_acc: 0.5229\n",
      "Epoch 20/100\n",
      "50000/50000 [==============================] - 4s 73us/step - loss: 1.1359 - acc: 0.5920 - val_loss: 1.4436 - val_acc: 0.5086\n",
      "Epoch 21/100\n",
      "50000/50000 [==============================] - 4s 74us/step - loss: 1.1025 - acc: 0.6044 - val_loss: 1.4121 - val_acc: 0.5151\n",
      "Epoch 22/100\n",
      "50000/50000 [==============================] - 4s 74us/step - loss: 1.0717 - acc: 0.6171 - val_loss: 1.4162 - val_acc: 0.5227\n",
      "Epoch 23/100\n",
      "50000/50000 [==============================] - 4s 74us/step - loss: 1.0487 - acc: 0.6215 - val_loss: 1.4444 - val_acc: 0.5096\n",
      "Epoch 24/100\n",
      "50000/50000 [==============================] - 4s 74us/step - loss: 1.0077 - acc: 0.6383 - val_loss: 1.4384 - val_acc: 0.5181\n",
      "Epoch 25/100\n",
      "50000/50000 [==============================] - 4s 74us/step - loss: 0.9882 - acc: 0.6438 - val_loss: 1.4733 - val_acc: 0.5183\n",
      "Epoch 26/100\n",
      "50000/50000 [==============================] - 4s 74us/step - loss: 0.9528 - acc: 0.6575 - val_loss: 1.5046 - val_acc: 0.5176\n",
      "Epoch 27/100\n",
      "50000/50000 [==============================] - 4s 74us/step - loss: 0.9258 - acc: 0.6676 - val_loss: 1.4934 - val_acc: 0.5204\n",
      "Epoch 28/100\n",
      "50000/50000 [==============================] - 4s 73us/step - loss: 0.9037 - acc: 0.6733 - val_loss: 1.5337 - val_acc: 0.5126\n",
      "Epoch 29/100\n",
      "50000/50000 [==============================] - 4s 75us/step - loss: 0.8684 - acc: 0.6876 - val_loss: 1.5458 - val_acc: 0.5238\n",
      "Epoch 30/100\n",
      "50000/50000 [==============================] - 4s 74us/step - loss: 0.8439 - acc: 0.6954 - val_loss: 1.6332 - val_acc: 0.5179\n",
      "Epoch 31/100\n",
      "50000/50000 [==============================] - 4s 74us/step - loss: 0.8127 - acc: 0.7075 - val_loss: 1.5843 - val_acc: 0.5192\n",
      "Epoch 32/100\n",
      "50000/50000 [==============================] - 4s 74us/step - loss: 0.7729 - acc: 0.7226 - val_loss: 1.7252 - val_acc: 0.5007\n",
      "Epoch 33/100\n",
      "50000/50000 [==============================] - 4s 73us/step - loss: 0.7699 - acc: 0.7205 - val_loss: 1.6863 - val_acc: 0.5087\n",
      "Epoch 34/100\n",
      "50000/50000 [==============================] - 4s 74us/step - loss: 0.7327 - acc: 0.7363 - val_loss: 1.7266 - val_acc: 0.5242\n",
      "Epoch 35/100\n",
      "50000/50000 [==============================] - 4s 74us/step - loss: 0.7005 - acc: 0.7455 - val_loss: 1.7365 - val_acc: 0.5156\n",
      "Epoch 36/100\n",
      "50000/50000 [==============================] - 4s 74us/step - loss: 0.6694 - acc: 0.7589 - val_loss: 1.8298 - val_acc: 0.5056\n",
      "Epoch 37/100\n",
      "50000/50000 [==============================] - 4s 74us/step - loss: 0.6517 - acc: 0.7660 - val_loss: 1.8190 - val_acc: 0.5155\n",
      "Epoch 38/100\n",
      "50000/50000 [==============================] - 4s 74us/step - loss: 0.6274 - acc: 0.7745 - val_loss: 1.9142 - val_acc: 0.5144\n",
      "Epoch 39/100\n",
      "50000/50000 [==============================] - 4s 74us/step - loss: 0.6094 - acc: 0.7818 - val_loss: 2.0059 - val_acc: 0.5166\n",
      "Epoch 40/100\n",
      "50000/50000 [==============================] - 4s 74us/step - loss: 0.5969 - acc: 0.7856 - val_loss: 2.0163 - val_acc: 0.4997\n",
      "Epoch 41/100\n",
      "50000/50000 [==============================] - 4s 78us/step - loss: 0.5697 - acc: 0.7958 - val_loss: 2.0212 - val_acc: 0.5072\n",
      "Epoch 42/100\n",
      "50000/50000 [==============================] - 4s 77us/step - loss: 0.5443 - acc: 0.8035 - val_loss: 2.1331 - val_acc: 0.5016\n",
      "Epoch 43/100\n",
      "50000/50000 [==============================] - 4s 77us/step - loss: 0.5381 - acc: 0.8066 - val_loss: 2.1457 - val_acc: 0.4979\n",
      "Epoch 44/100\n",
      "50000/50000 [==============================] - 4s 77us/step - loss: 0.5219 - acc: 0.8122 - val_loss: 2.2125 - val_acc: 0.5101\n",
      "Epoch 45/100\n",
      "50000/50000 [==============================] - 4s 75us/step - loss: 0.4831 - acc: 0.8285 - val_loss: 2.2378 - val_acc: 0.5041\n",
      "Epoch 46/100\n",
      "50000/50000 [==============================] - 4s 76us/step - loss: 0.4700 - acc: 0.8325 - val_loss: 2.2972 - val_acc: 0.5030\n",
      "Epoch 47/100\n",
      "50000/50000 [==============================] - 4s 74us/step - loss: 0.4627 - acc: 0.8348 - val_loss: 2.3702 - val_acc: 0.5011\n",
      "Epoch 48/100\n",
      "50000/50000 [==============================] - 4s 74us/step - loss: 0.4542 - acc: 0.8377 - val_loss: 2.4640 - val_acc: 0.4996\n",
      "Epoch 49/100\n",
      "50000/50000 [==============================] - 4s 79us/step - loss: 0.4493 - acc: 0.8418 - val_loss: 2.5100 - val_acc: 0.5001\n",
      "Epoch 50/100\n",
      "50000/50000 [==============================] - 4s 76us/step - loss: 0.4426 - acc: 0.8414 - val_loss: 2.4427 - val_acc: 0.5015\n",
      "Epoch 51/100\n",
      "50000/50000 [==============================] - 4s 74us/step - loss: 0.4143 - acc: 0.8537 - val_loss: 2.5523 - val_acc: 0.5039\n",
      "Epoch 52/100\n",
      "50000/50000 [==============================] - 4s 75us/step - loss: 0.3918 - acc: 0.8601 - val_loss: 2.5737 - val_acc: 0.4999\n",
      "Epoch 53/100\n",
      "50000/50000 [==============================] - 4s 74us/step - loss: 0.3898 - acc: 0.8612 - val_loss: 2.6024 - val_acc: 0.4929\n",
      "Epoch 54/100\n",
      "50000/50000 [==============================] - 4s 73us/step - loss: 0.3699 - acc: 0.8680 - val_loss: 2.6928 - val_acc: 0.4967\n",
      "Epoch 55/100\n",
      "50000/50000 [==============================] - 4s 73us/step - loss: 0.3456 - acc: 0.8772 - val_loss: 2.7516 - val_acc: 0.4924\n",
      "Epoch 56/100\n",
      "50000/50000 [==============================] - 4s 74us/step - loss: 0.3536 - acc: 0.8758 - val_loss: 2.7752 - val_acc: 0.4993\n",
      "Epoch 57/100\n",
      "50000/50000 [==============================] - 4s 73us/step - loss: 0.3647 - acc: 0.8694 - val_loss: 2.8331 - val_acc: 0.5032\n"
     ]
    },
    {
     "name": "stdout",
     "output_type": "stream",
     "text": [
      "Epoch 58/100\n",
      "50000/50000 [==============================] - 4s 76us/step - loss: 0.3534 - acc: 0.8738 - val_loss: 2.8104 - val_acc: 0.5059\n",
      "Epoch 59/100\n",
      "50000/50000 [==============================] - 4s 75us/step - loss: 0.3060 - acc: 0.8912 - val_loss: 2.8473 - val_acc: 0.4948\n",
      "Epoch 60/100\n",
      "50000/50000 [==============================] - 4s 74us/step - loss: 0.3140 - acc: 0.8867 - val_loss: 2.9816 - val_acc: 0.4955\n",
      "Epoch 61/100\n",
      "50000/50000 [==============================] - 4s 74us/step - loss: 0.3162 - acc: 0.8882 - val_loss: 2.8628 - val_acc: 0.5042\n",
      "Epoch 62/100\n",
      "50000/50000 [==============================] - 4s 74us/step - loss: 0.3312 - acc: 0.8832 - val_loss: 2.8806 - val_acc: 0.4996\n",
      "Epoch 63/100\n",
      "50000/50000 [==============================] - 4s 74us/step - loss: 0.2866 - acc: 0.8976 - val_loss: 3.0894 - val_acc: 0.4969\n",
      "Epoch 64/100\n",
      "50000/50000 [==============================] - 4s 75us/step - loss: 0.3121 - acc: 0.8909 - val_loss: 2.9596 - val_acc: 0.4921\n",
      "Epoch 65/100\n",
      "50000/50000 [==============================] - 4s 75us/step - loss: 0.2680 - acc: 0.9052 - val_loss: 3.1840 - val_acc: 0.4956\n",
      "Epoch 66/100\n",
      "50000/50000 [==============================] - 4s 72us/step - loss: 0.2748 - acc: 0.9028 - val_loss: 3.0361 - val_acc: 0.5000\n",
      "Epoch 67/100\n",
      "50000/50000 [==============================] - 4s 72us/step - loss: 0.2704 - acc: 0.9053 - val_loss: 3.2327 - val_acc: 0.4969\n",
      "Epoch 68/100\n",
      "50000/50000 [==============================] - 4s 72us/step - loss: 0.2684 - acc: 0.9048 - val_loss: 3.1502 - val_acc: 0.4988\n",
      "Epoch 69/100\n",
      "50000/50000 [==============================] - 4s 73us/step - loss: 0.2618 - acc: 0.9081 - val_loss: 3.0997 - val_acc: 0.5048\n",
      "Epoch 70/100\n",
      "50000/50000 [==============================] - 4s 72us/step - loss: 0.2325 - acc: 0.9178 - val_loss: 3.3616 - val_acc: 0.4934\n",
      "Epoch 71/100\n",
      "50000/50000 [==============================] - 4s 72us/step - loss: 0.2618 - acc: 0.9078 - val_loss: 3.1936 - val_acc: 0.4973\n",
      "Epoch 72/100\n",
      "50000/50000 [==============================] - 4s 72us/step - loss: 0.2629 - acc: 0.9072 - val_loss: 3.2900 - val_acc: 0.4903\n",
      "Epoch 73/100\n",
      "50000/50000 [==============================] - 4s 73us/step - loss: 0.2368 - acc: 0.9166 - val_loss: 3.3235 - val_acc: 0.4879\n",
      "Epoch 74/100\n",
      "50000/50000 [==============================] - 4s 72us/step - loss: 0.2254 - acc: 0.9219 - val_loss: 3.3628 - val_acc: 0.4970\n",
      "Epoch 75/100\n",
      "50000/50000 [==============================] - 4s 72us/step - loss: 0.2508 - acc: 0.9128 - val_loss: 3.2610 - val_acc: 0.4882\n",
      "Epoch 76/100\n",
      "50000/50000 [==============================] - 4s 72us/step - loss: 0.2279 - acc: 0.9197 - val_loss: 3.3943 - val_acc: 0.4919\n",
      "Epoch 77/100\n",
      "50000/50000 [==============================] - 4s 72us/step - loss: 0.2199 - acc: 0.9233 - val_loss: 3.3612 - val_acc: 0.4948\n",
      "Epoch 78/100\n",
      "50000/50000 [==============================] - 4s 73us/step - loss: 0.2161 - acc: 0.9238 - val_loss: 3.5783 - val_acc: 0.4924\n",
      "Epoch 79/100\n",
      "50000/50000 [==============================] - 4s 72us/step - loss: 0.2119 - acc: 0.9264 - val_loss: 3.4993 - val_acc: 0.4920\n",
      "Epoch 80/100\n",
      "50000/50000 [==============================] - 4s 73us/step - loss: 0.1987 - acc: 0.9301 - val_loss: 3.5662 - val_acc: 0.4896\n",
      "Epoch 81/100\n",
      "50000/50000 [==============================] - 4s 72us/step - loss: 0.2267 - acc: 0.9203 - val_loss: 3.5145 - val_acc: 0.4905\n",
      "Epoch 82/100\n",
      "50000/50000 [==============================] - 4s 72us/step - loss: 0.2045 - acc: 0.9269 - val_loss: 3.4739 - val_acc: 0.4948\n",
      "Epoch 83/100\n",
      "50000/50000 [==============================] - 4s 72us/step - loss: 0.1866 - acc: 0.9348 - val_loss: 3.6805 - val_acc: 0.4992\n",
      "Epoch 84/100\n",
      "50000/50000 [==============================] - 4s 72us/step - loss: 0.2088 - acc: 0.9275 - val_loss: 3.5066 - val_acc: 0.4952\n",
      "Epoch 85/100\n",
      "50000/50000 [==============================] - 4s 73us/step - loss: 0.2252 - acc: 0.9226 - val_loss: 3.5805 - val_acc: 0.4888\n",
      "Epoch 86/100\n",
      "50000/50000 [==============================] - 4s 73us/step - loss: 0.2066 - acc: 0.9299 - val_loss: 3.5726 - val_acc: 0.4910\n",
      "Epoch 87/100\n",
      "50000/50000 [==============================] - 4s 73us/step - loss: 0.1842 - acc: 0.9363 - val_loss: 3.5930 - val_acc: 0.4984\n",
      "Epoch 88/100\n",
      "50000/50000 [==============================] - 4s 72us/step - loss: 0.1885 - acc: 0.9358 - val_loss: 3.6326 - val_acc: 0.4872\n",
      "Epoch 89/100\n",
      "50000/50000 [==============================] - 4s 72us/step - loss: 0.2035 - acc: 0.9289 - val_loss: 3.6314 - val_acc: 0.4942\n",
      "Epoch 90/100\n",
      "50000/50000 [==============================] - 4s 72us/step - loss: 0.1797 - acc: 0.9376 - val_loss: 3.8013 - val_acc: 0.4993\n",
      "Epoch 91/100\n",
      "50000/50000 [==============================] - 4s 73us/step - loss: 0.1573 - acc: 0.9452 - val_loss: 3.7604 - val_acc: 0.4915\n",
      "Epoch 92/100\n",
      "50000/50000 [==============================] - 4s 73us/step - loss: 0.2015 - acc: 0.9296 - val_loss: 3.6893 - val_acc: 0.4840\n",
      "Epoch 93/100\n",
      "50000/50000 [==============================] - 4s 72us/step - loss: 0.2034 - acc: 0.9308 - val_loss: 3.7583 - val_acc: 0.4871\n",
      "Epoch 94/100\n",
      "50000/50000 [==============================] - 4s 73us/step - loss: 0.1695 - acc: 0.9411 - val_loss: 3.8168 - val_acc: 0.4913\n",
      "Epoch 95/100\n",
      "50000/50000 [==============================] - 4s 73us/step - loss: 0.1790 - acc: 0.9391 - val_loss: 3.7577 - val_acc: 0.4883\n",
      "Epoch 96/100\n",
      "50000/50000 [==============================] - 4s 73us/step - loss: 0.1747 - acc: 0.9401 - val_loss: 3.7179 - val_acc: 0.4923\n",
      "Epoch 97/100\n",
      "50000/50000 [==============================] - 4s 73us/step - loss: 0.1723 - acc: 0.9393 - val_loss: 3.7118 - val_acc: 0.4966\n",
      "Epoch 98/100\n",
      "50000/50000 [==============================] - 4s 72us/step - loss: 0.1823 - acc: 0.9371 - val_loss: 3.8090 - val_acc: 0.4832\n",
      "Epoch 99/100\n",
      "50000/50000 [==============================] - 4s 72us/step - loss: 0.1575 - acc: 0.9465 - val_loss: 3.7873 - val_acc: 0.4994\n",
      "Epoch 100/100\n",
      "50000/50000 [==============================] - 4s 73us/step - loss: 0.1275 - acc: 0.9558 - val_loss: 3.9544 - val_acc: 0.4926\n"
     ]
    },
    {
     "data": {
      "text/plain": [
       "<keras.callbacks.History at 0x23de58e60f0>"
      ]
     },
     "execution_count": 10,
     "metadata": {},
     "output_type": "execute_result"
    }
   ],
   "source": [
    "model.fit(x_train, y_train, \n",
    "          epochs=EPOCHS, \n",
    "          batch_size=BATCH_SIZE, \n",
    "          validation_data=(x_test, y_test), \n",
    "          shuffle=True)"
   ]
  },
  {
   "cell_type": "code",
   "execution_count": 12,
   "metadata": {},
   "outputs": [
    {
     "data": {
      "image/png": "[encoded data removed]",
      "text/plain": [
       "<Figure size 432x288 with 1 Axes>"
      ]
     },
     "metadata": {
      "needs_background": "light"
     },
     "output_type": "display_data"
    },
    {
     "data": {
      "image/png": "[encoded data removed]",
      "text/plain": [
       "<Figure size 432x288 with 1 Axes>"
      ]
     },
     "metadata": {
      "needs_background": "light"
     },
     "output_type": "display_data"
    }
   ],
   "source": [
    "import matplotlib.pyplot as plt\n",
    "\n",
    "\n",
    "train_loss = model.history.history[\"loss\"]\n",
    "valid_loss = model.history.history[\"val_loss\"]\n",
    "\n",
    "train_acc = model.history.history[\"acc\"]\n",
    "valid_acc = model.history.history[\"val_acc\"]\n",
    "\n",
    "plt.plot(range(len(train_loss)), train_loss, label=\"train loss\")\n",
    "plt.plot(range(len(valid_loss)), valid_loss, label=\"valid loss\")\n",
    "plt.legend()\n",
    "plt.title(\"Loss\")\n",
    "plt.show()\n",
    "\n",
    "plt.plot(range(len(train_acc)), train_acc, label=\"train accuracy\")\n",
    "plt.plot(range(len(valid_acc)), valid_acc, label=\"valid accuracy\")\n",
    "plt.legend()\n",
    "plt.title(\"Accuracy\")\n",
    "plt.show()"
   ]
  }
 ],
 "metadata": {
  "kernelspec": {
   "display_name": "Python 3",
   "language": "python",
   "name": "python3"
  },
  "language_info": {
   "codemirror_mode": {
    "name": "ipython",
    "version": 3
   },
   "file_extension": ".py",
   "mimetype": "text/x-python",
   "name": "python",
   "nbconvert_exporter": "python",
   "pygments_lexer": "ipython3",
   "version": "3.7.3"
  }
 },
 "nbformat": 4,
 "nbformat_minor": 2
}
