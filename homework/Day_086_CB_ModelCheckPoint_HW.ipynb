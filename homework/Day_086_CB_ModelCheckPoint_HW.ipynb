{
 "cells": [
  {
   "cell_type": "markdown",
   "metadata": {},
   "source": [
    "## Work\n",
    "1. 試比較 save_best_only 與否的差異\n",
    "2. 請僅存入將 save_weights_only 設定為 True, 並嘗試 reset ipynb 並將模型與權重重新建回並預測 x_test"
   ]
  },
  {
   "cell_type": "code",
   "execution_count": 10,
   "metadata": {},
   "outputs": [],
   "source": [
    "import os\n",
    "import keras\n",
    "\n",
    "# Disable GPU\n",
    "os.environ[\"CUDA_VISIBLE_DEVICES\"] = \"0\""
   ]
  },
  {
   "cell_type": "code",
   "execution_count": 11,
   "metadata": {},
   "outputs": [],
   "source": [
    "train, test = keras.datasets.cifar10.load_data()"
   ]
  },
  {
   "cell_type": "code",
   "execution_count": 12,
   "metadata": {},
   "outputs": [],
   "source": [
    "## 資料前處理\n",
    "def preproc_x(x, flatten=True):\n",
    "    x = x / 255.\n",
    "    if flatten:\n",
    "        x = x.reshape((len(x), -1))\n",
    "    return x\n",
    "\n",
    "def preproc_y(y, num_classes=10):\n",
    "    if y.shape[-1] == 1:\n",
    "        y = keras.utils.to_categorical(y, num_classes)\n",
    "    return y    "
   ]
  },
  {
   "cell_type": "code",
   "execution_count": 13,
   "metadata": {},
   "outputs": [],
   "source": [
    "x_train, y_train = train\n",
    "x_test, y_test = test\n",
    "\n",
    "# Preproc the inputs\n",
    "x_train = preproc_x(x_train)\n",
    "x_test = preproc_x(x_test)\n",
    "\n",
    "# Preprc the outputs\n",
    "y_train = preproc_y(y_train)\n",
    "y_test = preproc_y(y_test)"
   ]
  },
  {
   "cell_type": "code",
   "execution_count": 14,
   "metadata": {},
   "outputs": [],
   "source": [
    "from keras.layers import BatchNormalization\n",
    "\n",
    "\"\"\"\n",
    "建立神經網路，並加入 BN layer\n",
    "\"\"\"\n",
    "def build_mlp(input_shape, output_units=10, num_neurons=[512, 256, 128]):\n",
    "    input_layer = keras.layers.Input(input_shape)\n",
    "    \n",
    "    for i, n_units in enumerate(num_neurons):\n",
    "        if i == 0:\n",
    "            x = keras.layers.Dense(units=n_units, \n",
    "                                   activation=\"relu\", \n",
    "                                   name=\"hidden_layer\"+str(i+1))(input_layer)\n",
    "            x = BatchNormalization()(x)\n",
    "        else:\n",
    "            x = keras.layers.Dense(units=n_units, \n",
    "                                   activation=\"relu\", \n",
    "                                   name=\"hidden_layer\"+str(i+1))(x)\n",
    "            x = BatchNormalization()(x)\n",
    "    \n",
    "    out = keras.layers.Dense(units=output_units, activation=\"softmax\", name=\"output\")(x)\n",
    "    \n",
    "    model = keras.models.Model(inputs=[input_layer], outputs=[out])\n",
    "    return model"
   ]
  },
  {
   "cell_type": "code",
   "execution_count": 15,
   "metadata": {},
   "outputs": [],
   "source": [
    "\"\"\"Code Here\n",
    "設定超參數\n",
    "\"\"\"\n",
    "## 超參數設定\n",
    "LEARNING_RATE = 1e-3\n",
    "EPOCHS = 50\n",
    "BATCH_SIZE = 1024\n",
    "MOMENTUM = 0.95"
   ]
  },
  {
   "cell_type": "code",
   "execution_count": 16,
   "metadata": {},
   "outputs": [],
   "source": [
    "# 載入 Callbacks\n",
    "\"\"\"Code Here\n",
    "設定 callbacks: model checkpoint\n",
    "\"\"\"\n",
    "from keras.callbacks import ModelCheckpoint\n",
    "\n",
    "model_ckpt = ModelCheckpoint(filepath=\"./tmp_hw.h5\", \n",
    "                             monitor=\"val_loss\", \n",
    "                             save_best_only=False)"
   ]
  },
  {
   "cell_type": "code",
   "execution_count": 17,
   "metadata": {
    "scrolled": true
   },
   "outputs": [
    {
     "name": "stdout",
     "output_type": "stream",
     "text": [
      "_________________________________________________________________\n",
      "Layer (type)                 Output Shape              Param #   \n",
      "=================================================================\n",
      "input_2 (InputLayer)         (None, 3072)              0         \n",
      "_________________________________________________________________\n",
      "hidden_layer1 (Dense)        (None, 512)               1573376   \n",
      "_________________________________________________________________\n",
      "batch_normalization_4 (Batch (None, 512)               2048      \n",
      "_________________________________________________________________\n",
      "hidden_layer2 (Dense)        (None, 256)               131328    \n",
      "_________________________________________________________________\n",
      "batch_normalization_5 (Batch (None, 256)               1024      \n",
      "_________________________________________________________________\n",
      "hidden_layer3 (Dense)        (None, 128)               32896     \n",
      "_________________________________________________________________\n",
      "batch_normalization_6 (Batch (None, 128)               512       \n",
      "_________________________________________________________________\n",
      "output (Dense)               (None, 10)                1290      \n",
      "=================================================================\n",
      "Total params: 1,742,474\n",
      "Trainable params: 1,740,682\n",
      "Non-trainable params: 1,792\n",
      "_________________________________________________________________\n",
      "Train on 50000 samples, validate on 10000 samples\n",
      "Epoch 1/50\n",
      "50000/50000 [==============================] - 4s 71us/step - loss: 2.1900 - acc: 0.2762 - val_loss: 2.0339 - val_acc: 0.3387\n",
      "Epoch 2/50\n",
      "50000/50000 [==============================] - 2s 43us/step - loss: 1.7412 - acc: 0.3937 - val_loss: 1.8307 - val_acc: 0.3785\n",
      "Epoch 3/50\n",
      "50000/50000 [==============================] - 2s 43us/step - loss: 1.6192 - acc: 0.4332 - val_loss: 1.6938 - val_acc: 0.4076\n",
      "Epoch 4/50\n",
      "50000/50000 [==============================] - 2s 48us/step - loss: 1.5454 - acc: 0.4603 - val_loss: 1.6381 - val_acc: 0.4268\n",
      "Epoch 5/50\n",
      "50000/50000 [==============================] - 2s 46us/step - loss: 1.4899 - acc: 0.4792 - val_loss: 1.6203 - val_acc: 0.4248\n",
      "Epoch 6/50\n",
      "50000/50000 [==============================] - 2s 43us/step - loss: 1.4431 - acc: 0.4952 - val_loss: 1.5743 - val_acc: 0.4449\n",
      "Epoch 7/50\n",
      "50000/50000 [==============================] - 2s 44us/step - loss: 1.4028 - acc: 0.5092 - val_loss: 1.5600 - val_acc: 0.4493\n",
      "Epoch 8/50\n",
      "50000/50000 [==============================] - 2s 43us/step - loss: 1.3653 - acc: 0.5216 - val_loss: 1.5390 - val_acc: 0.4556\n",
      "Epoch 9/50\n",
      "50000/50000 [==============================] - 2s 46us/step - loss: 1.3348 - acc: 0.5335 - val_loss: 1.5272 - val_acc: 0.4592\n",
      "Epoch 10/50\n",
      "50000/50000 [==============================] - 2s 49us/step - loss: 1.3015 - acc: 0.5457 - val_loss: 1.4987 - val_acc: 0.4724\n",
      "Epoch 11/50\n",
      "50000/50000 [==============================] - 2s 45us/step - loss: 1.2725 - acc: 0.5556 - val_loss: 1.5114 - val_acc: 0.4695\n",
      "Epoch 12/50\n",
      "50000/50000 [==============================] - 2s 45us/step - loss: 1.2458 - acc: 0.5662 - val_loss: 1.4841 - val_acc: 0.4803\n",
      "Epoch 13/50\n",
      "50000/50000 [==============================] - 2s 44us/step - loss: 1.2194 - acc: 0.5765 - val_loss: 1.4755 - val_acc: 0.4750\n",
      "Epoch 14/50\n",
      "50000/50000 [==============================] - 2s 43us/step - loss: 1.1937 - acc: 0.5859 - val_loss: 1.4871 - val_acc: 0.4758\n",
      "Epoch 15/50\n",
      "50000/50000 [==============================] - 2s 44us/step - loss: 1.1695 - acc: 0.5961 - val_loss: 1.4602 - val_acc: 0.4831\n",
      "Epoch 16/50\n",
      "50000/50000 [==============================] - 3s 51us/step - loss: 1.1454 - acc: 0.6044 - val_loss: 1.4657 - val_acc: 0.4876\n",
      "Epoch 17/50\n",
      "50000/50000 [==============================] - 2s 48us/step - loss: 1.1222 - acc: 0.6133 - val_loss: 1.4654 - val_acc: 0.4864\n",
      "Epoch 18/50\n",
      "50000/50000 [==============================] - 2s 44us/step - loss: 1.0989 - acc: 0.6211 - val_loss: 1.4589 - val_acc: 0.4892\n",
      "Epoch 19/50\n",
      "50000/50000 [==============================] - 2s 44us/step - loss: 1.0771 - acc: 0.6331 - val_loss: 1.4724 - val_acc: 0.4857\n",
      "Epoch 20/50\n",
      "50000/50000 [==============================] - 2s 46us/step - loss: 1.0538 - acc: 0.6404 - val_loss: 1.4604 - val_acc: 0.4869\n",
      "Epoch 21/50\n",
      "50000/50000 [==============================] - 2s 47us/step - loss: 1.0315 - acc: 0.6486 - val_loss: 1.4487 - val_acc: 0.4945\n",
      "Epoch 22/50\n",
      "50000/50000 [==============================] - 2s 45us/step - loss: 1.0098 - acc: 0.6566 - val_loss: 1.4625 - val_acc: 0.4884\n",
      "Epoch 23/50\n",
      "50000/50000 [==============================] - 2s 45us/step - loss: 0.9907 - acc: 0.6624 - val_loss: 1.4593 - val_acc: 0.4903\n",
      "Epoch 24/50\n",
      "50000/50000 [==============================] - 2s 46us/step - loss: 0.9708 - acc: 0.6712 - val_loss: 1.4773 - val_acc: 0.4861\n",
      "Epoch 25/50\n",
      "50000/50000 [==============================] - 2s 49us/step - loss: 0.9485 - acc: 0.6830 - val_loss: 1.4605 - val_acc: 0.4966\n",
      "Epoch 26/50\n",
      "50000/50000 [==============================] - 2s 45us/step - loss: 0.9282 - acc: 0.6877 - val_loss: 1.4690 - val_acc: 0.4934\n",
      "Epoch 27/50\n",
      "50000/50000 [==============================] - 3s 51us/step - loss: 0.9055 - acc: 0.6977 - val_loss: 1.4757 - val_acc: 0.4943\n",
      "Epoch 28/50\n",
      "50000/50000 [==============================] - 2s 45us/step - loss: 0.8851 - acc: 0.7053 - val_loss: 1.4767 - val_acc: 0.4948\n",
      "Epoch 29/50\n",
      "50000/50000 [==============================] - 2s 45us/step - loss: 0.8644 - acc: 0.7149 - val_loss: 1.4889 - val_acc: 0.4932\n",
      "Epoch 30/50\n",
      "50000/50000 [==============================] - 2s 50us/step - loss: 0.8448 - acc: 0.7210 - val_loss: 1.5009 - val_acc: 0.4911loss: 0.8425 - acc: 0.\n",
      "Epoch 31/50\n",
      "50000/50000 [==============================] - 2s 44us/step - loss: 0.8267 - acc: 0.7293 - val_loss: 1.5036 - val_acc: 0.4880\n",
      "Epoch 32/50\n",
      "50000/50000 [==============================] - 2s 43us/step - loss: 0.8054 - acc: 0.7379 - val_loss: 1.5078 - val_acc: 0.4957\n",
      "Epoch 33/50\n",
      "50000/50000 [==============================] - 2s 43us/step - loss: 0.7866 - acc: 0.7446 - val_loss: 1.5036 - val_acc: 0.4934\n",
      "Epoch 34/50\n",
      "50000/50000 [==============================] - 2s 43us/step - loss: 0.7658 - acc: 0.7532 - val_loss: 1.5234 - val_acc: 0.4837\n",
      "Epoch 35/50\n",
      "50000/50000 [==============================] - 2s 43us/step - loss: 0.7467 - acc: 0.7611 - val_loss: 1.5169 - val_acc: 0.4955\n",
      "Epoch 36/50\n",
      "50000/50000 [==============================] - 2s 44us/step - loss: 0.7303 - acc: 0.7678 - val_loss: 1.5536 - val_acc: 0.4878\n",
      "Epoch 37/50\n",
      "50000/50000 [==============================] - 2s 44us/step - loss: 0.7094 - acc: 0.7753 - val_loss: 1.5357 - val_acc: 0.4909\n",
      "Epoch 38/50\n",
      "50000/50000 [==============================] - 2s 46us/step - loss: 0.6917 - acc: 0.7814 - val_loss: 1.5491 - val_acc: 0.4893\n",
      "Epoch 39/50\n",
      "50000/50000 [==============================] - 2s 45us/step - loss: 0.6727 - acc: 0.7906 - val_loss: 1.5482 - val_acc: 0.4941\n",
      "Epoch 40/50\n",
      "50000/50000 [==============================] - 2s 43us/step - loss: 0.6531 - acc: 0.7973 - val_loss: 1.5621 - val_acc: 0.4904\n",
      "Epoch 41/50\n",
      "50000/50000 [==============================] - 2s 42us/step - loss: 0.6344 - acc: 0.8055 - val_loss: 1.5612 - val_acc: 0.4936\n",
      "Epoch 42/50\n",
      "50000/50000 [==============================] - 2s 49us/step - loss: 0.6166 - acc: 0.8121 - val_loss: 1.5816 - val_acc: 0.4909\n",
      "Epoch 43/50\n",
      "50000/50000 [==============================] - 2s 44us/step - loss: 0.6016 - acc: 0.8183 - val_loss: 1.6197 - val_acc: 0.4895\n",
      "Epoch 44/50\n",
      "50000/50000 [==============================] - 2s 42us/step - loss: 0.5831 - acc: 0.8264 - val_loss: 1.6102 - val_acc: 0.4873\n",
      "Epoch 45/50\n",
      "50000/50000 [==============================] - 2s 41us/step - loss: 0.5662 - acc: 0.8330 - val_loss: 1.6206 - val_acc: 0.4875\n",
      "Epoch 46/50\n",
      "50000/50000 [==============================] - 2s 42us/step - loss: 0.5505 - acc: 0.8386 - val_loss: 1.6332 - val_acc: 0.4879\n",
      "Epoch 47/50\n",
      "50000/50000 [==============================] - 2s 42us/step - loss: 0.5320 - acc: 0.8450 - val_loss: 1.6522 - val_acc: 0.4863\n",
      "Epoch 48/50\n",
      "50000/50000 [==============================] - 2s 42us/step - loss: 0.5158 - acc: 0.8529 - val_loss: 1.6629 - val_acc: 0.4886\n",
      "Epoch 49/50\n",
      "50000/50000 [==============================] - 2s 47us/step - loss: 0.4984 - acc: 0.8592 - val_loss: 1.6625 - val_acc: 0.4905\n"
     ]
    },
    {
     "name": "stdout",
     "output_type": "stream",
     "text": [
      "Epoch 50/50\n",
      "50000/50000 [==============================] - 2s 46us/step - loss: 0.4812 - acc: 0.8670 - val_loss: 1.6893 - val_acc: 0.4872\n"
     ]
    }
   ],
   "source": [
    "results = {}\n",
    "\"\"\"Code Here\n",
    "撰寫你的訓練流程並將結果用 dictionary 紀錄\n",
    "\"\"\"\n",
    "model = build_mlp(input_shape=x_train.shape[1:])\n",
    "model.summary()\n",
    "optimizer = keras.optimizers.SGD(lr=LEARNING_RATE, nesterov=True, momentum=MOMENTUM)\n",
    "model.compile(loss=\"categorical_crossentropy\", metrics=[\"accuracy\"], optimizer=optimizer)\n",
    "\n",
    "model.fit(x_train, y_train, \n",
    "          epochs=EPOCHS, \n",
    "          batch_size=BATCH_SIZE, \n",
    "          validation_data=(x_test, y_test), \n",
    "          shuffle=True,\n",
    "          callbacks=[model_ckpt] #儲存model\n",
    "         )\n",
    "\n",
    "# Collect results\n",
    "train_loss = model.history.history[\"loss\"]\n",
    "valid_loss = model.history.history[\"val_loss\"]\n",
    "train_acc = model.history.history[\"acc\"]\n",
    "valid_acc = model.history.history[\"val_acc\"]\n"
   ]
  },
  {
   "cell_type": "code",
   "execution_count": 20,
   "metadata": {
    "scrolled": false
   },
   "outputs": [
    {
     "data": {
      "image/png": "[encoded data removed]",
      "text/plain": [
       "<Figure size 432x288 with 1 Axes>"
      ]
     },
     "metadata": {
      "needs_background": "light"
     },
     "output_type": "display_data"
    },
    {
     "data": {
      "image/png": "[encoded data removed]",
      "text/plain": [
       "<Figure size 432x288 with 1 Axes>"
      ]
     },
     "metadata": {
      "needs_background": "light"
     },
     "output_type": "display_data"
    }
   ],
   "source": [
    "import matplotlib.pyplot as plt\n",
    "%matplotlib inline\n",
    "\"\"\"Code Here\n",
    "將結果繪出\n",
    "\"\"\"\n",
    "plt.plot(range(len(train_loss)), train_loss, label=\"train loss\")\n",
    "plt.plot(range(len(valid_loss)), valid_loss, label=\"valid loss\")\n",
    "plt.hlines(y=train_loss, xmin=0, xmax=len(train_loss), colors='r', linestyles='--')\n",
    "plt.legend()\n",
    "plt.title(\"Loss\")\n",
    "plt.show()\n",
    "\n",
    "plt.plot(range(len(train_acc)), train_acc, label=\"train accuracy\")\n",
    "plt.plot(range(len(valid_acc)), valid_acc, label=\"valid accuracy\")\n",
    "plt.hlines(y=train_acc, xmin=0, xmax=len(train_loss), colors='r', linestyles='--')\n",
    "plt.legend()\n",
    "plt.title(\"Accuracy\")\n",
    "plt.show()"
   ]
  },
  {
   "cell_type": "code",
   "execution_count": 21,
   "metadata": {
    "scrolled": true
   },
   "outputs": [
    {
     "name": "stdout",
     "output_type": "stream",
     "text": [
      "_________________________________________________________________\n",
      "Layer (type)                 Output Shape              Param #   \n",
      "=================================================================\n",
      "input_2 (InputLayer)         (None, 3072)              0         \n",
      "_________________________________________________________________\n",
      "hidden_layer1 (Dense)        (None, 512)               1573376   \n",
      "_________________________________________________________________\n",
      "batch_normalization_4 (Batch (None, 512)               2048      \n",
      "_________________________________________________________________\n",
      "hidden_layer2 (Dense)        (None, 256)               131328    \n",
      "_________________________________________________________________\n",
      "batch_normalization_5 (Batch (None, 256)               1024      \n",
      "_________________________________________________________________\n",
      "hidden_layer3 (Dense)        (None, 128)               32896     \n",
      "_________________________________________________________________\n",
      "batch_normalization_6 (Batch (None, 128)               512       \n",
      "_________________________________________________________________\n",
      "output (Dense)               (None, 10)                1290      \n",
      "=================================================================\n",
      "Total params: 1,742,474\n",
      "Trainable params: 1,740,682\n",
      "Non-trainable params: 1,792\n",
      "_________________________________________________________________\n",
      "Train on 50000 samples, validate on 10000 samples\n",
      "Epoch 1/50\n",
      "50000/50000 [==============================] - 4s 73us/step - loss: 0.4666 - acc: 0.8726 - val_loss: 1.7111 - val_acc: 0.4905\n",
      "Epoch 2/50\n",
      "50000/50000 [==============================] - 2s 47us/step - loss: 0.4571 - acc: 0.8753 - val_loss: 1.7019 - val_acc: 0.4849\n",
      "Epoch 3/50\n",
      "50000/50000 [==============================] - 2s 48us/step - loss: 0.4411 - acc: 0.8820 - val_loss: 1.7250 - val_acc: 0.4860\n",
      "Epoch 4/50\n",
      "50000/50000 [==============================] - 2s 46us/step - loss: 0.4263 - acc: 0.8871 - val_loss: 1.7333 - val_acc: 0.4852\n",
      "Epoch 5/50\n",
      "50000/50000 [==============================] - 2s 48us/step - loss: 0.4138 - acc: 0.8913 - val_loss: 1.7726 - val_acc: 0.4766\n",
      "Epoch 6/50\n",
      "50000/50000 [==============================] - 2s 46us/step - loss: 0.3993 - acc: 0.8974 - val_loss: 1.7662 - val_acc: 0.4836\n",
      "Epoch 7/50\n",
      "50000/50000 [==============================] - 2s 44us/step - loss: 0.3818 - acc: 0.9063 - val_loss: 1.7917 - val_acc: 0.4833\n",
      "Epoch 8/50\n",
      "50000/50000 [==============================] - 2s 44us/step - loss: 0.3681 - acc: 0.9095 - val_loss: 1.7762 - val_acc: 0.4816\n",
      "Epoch 9/50\n",
      "50000/50000 [==============================] - 2s 44us/step - loss: 0.3566 - acc: 0.9137 - val_loss: 1.8217 - val_acc: 0.4862\n",
      "Epoch 10/50\n",
      "50000/50000 [==============================] - 2s 44us/step - loss: 0.3422 - acc: 0.9199 - val_loss: 1.8130 - val_acc: 0.4796\n",
      "Epoch 11/50\n",
      "50000/50000 [==============================] - 2s 43us/step - loss: 0.3294 - acc: 0.9239 - val_loss: 1.8604 - val_acc: 0.4825\n",
      "Epoch 12/50\n",
      "50000/50000 [==============================] - 2s 44us/step - loss: 0.3172 - acc: 0.9287 - val_loss: 1.8712 - val_acc: 0.4759\n",
      "Epoch 13/50\n",
      "50000/50000 [==============================] - 2s 45us/step - loss: 0.3060 - acc: 0.9316 - val_loss: 1.8649 - val_acc: 0.4811\n",
      "Epoch 14/50\n",
      "50000/50000 [==============================] - 2s 47us/step - loss: 0.2919 - acc: 0.9386 - val_loss: 1.8750 - val_acc: 0.4850\n",
      "Epoch 15/50\n",
      "50000/50000 [==============================] - 2s 44us/step - loss: 0.2803 - acc: 0.9425 - val_loss: 1.9190 - val_acc: 0.4830\n",
      "Epoch 16/50\n",
      "50000/50000 [==============================] - 2s 44us/step - loss: 0.2687 - acc: 0.9454 - val_loss: 1.9099 - val_acc: 0.4832\n",
      "Epoch 17/50\n",
      "50000/50000 [==============================] - 2s 45us/step - loss: 0.2575 - acc: 0.9504 - val_loss: 1.9322 - val_acc: 0.4817\n",
      "Epoch 18/50\n",
      "50000/50000 [==============================] - 2s 44us/step - loss: 0.2474 - acc: 0.9530 - val_loss: 1.9718 - val_acc: 0.4799\n",
      "Epoch 19/50\n",
      "50000/50000 [==============================] - 2s 46us/step - loss: 0.2385 - acc: 0.9565 - val_loss: 1.9914 - val_acc: 0.4773\n",
      "Epoch 20/50\n",
      "50000/50000 [==============================] - 2s 46us/step - loss: 0.2291 - acc: 0.9598 - val_loss: 1.9990 - val_acc: 0.4784\n",
      "Epoch 21/50\n",
      "50000/50000 [==============================] - 2s 48us/step - loss: 0.2186 - acc: 0.9630 - val_loss: 1.9928 - val_acc: 0.4818\n",
      "Epoch 22/50\n",
      "50000/50000 [==============================] - 3s 55us/step - loss: 0.2094 - acc: 0.9655 - val_loss: 2.0147 - val_acc: 0.4768\n",
      "Epoch 23/50\n",
      "50000/50000 [==============================] - 2s 44us/step - loss: 0.2020 - acc: 0.9677 - val_loss: 2.0604 - val_acc: 0.4687\n",
      "Epoch 24/50\n",
      "50000/50000 [==============================] - 2s 45us/step - loss: 0.1939 - acc: 0.9703 - val_loss: 2.0642 - val_acc: 0.4778\n",
      "Epoch 25/50\n",
      "50000/50000 [==============================] - 2s 49us/step - loss: 0.1841 - acc: 0.9731 - val_loss: 2.0699 - val_acc: 0.4818\n",
      "Epoch 26/50\n",
      "50000/50000 [==============================] - 3s 51us/step - loss: 0.1770 - acc: 0.9743 - val_loss: 2.0796 - val_acc: 0.4759\n",
      "Epoch 27/50\n",
      "50000/50000 [==============================] - 2s 46us/step - loss: 0.1698 - acc: 0.9774 - val_loss: 2.1076 - val_acc: 0.4789\n",
      "Epoch 28/50\n",
      "50000/50000 [==============================] - 2s 44us/step - loss: 0.1618 - acc: 0.9793 - val_loss: 2.1375 - val_acc: 0.4794\n",
      "Epoch 29/50\n",
      "50000/50000 [==============================] - 2s 43us/step - loss: 0.1555 - acc: 0.9802 - val_loss: 2.1360 - val_acc: 0.4753\n",
      "Epoch 30/50\n",
      "50000/50000 [==============================] - 2s 43us/step - loss: 0.1492 - acc: 0.9823 - val_loss: 2.1617 - val_acc: 0.4744\n",
      "Epoch 31/50\n",
      "50000/50000 [==============================] - 2s 44us/step - loss: 0.1421 - acc: 0.9840 - val_loss: 2.1722 - val_acc: 0.4772\n",
      "Epoch 32/50\n",
      "50000/50000 [==============================] - 2s 43us/step - loss: 0.1357 - acc: 0.9862 - val_loss: 2.1921 - val_acc: 0.4809\n",
      "Epoch 33/50\n",
      "50000/50000 [==============================] - 2s 43us/step - loss: 0.1304 - acc: 0.9869 - val_loss: 2.2407 - val_acc: 0.4744\n",
      "Epoch 34/50\n",
      "50000/50000 [==============================] - 2s 43us/step - loss: 0.1260 - acc: 0.9882 - val_loss: 2.2171 - val_acc: 0.4781\n",
      "Epoch 35/50\n",
      "50000/50000 [==============================] - 2s 43us/step - loss: 0.1202 - acc: 0.9892 - val_loss: 2.2430 - val_acc: 0.4754\n",
      "Epoch 36/50\n",
      "50000/50000 [==============================] - 2s 43us/step - loss: 0.1145 - acc: 0.9901 - val_loss: 2.2607 - val_acc: 0.4761\n",
      "Epoch 37/50\n",
      "50000/50000 [==============================] - 2s 43us/step - loss: 0.1108 - acc: 0.9904 - val_loss: 2.2660 - val_acc: 0.4771\n",
      "Epoch 38/50\n",
      "50000/50000 [==============================] - 2s 44us/step - loss: 0.1064 - acc: 0.9917 - val_loss: 2.2831 - val_acc: 0.4770\n",
      "Epoch 39/50\n",
      "50000/50000 [==============================] - 2s 43us/step - loss: 0.1014 - acc: 0.9929 - val_loss: 2.3013 - val_acc: 0.4749\n",
      "Epoch 40/50\n",
      "50000/50000 [==============================] - 2s 43us/step - loss: 0.0970 - acc: 0.9935 - val_loss: 2.2964 - val_acc: 0.4767\n",
      "Epoch 41/50\n",
      "50000/50000 [==============================] - 2s 43us/step - loss: 0.0936 - acc: 0.9935 - val_loss: 2.3296 - val_acc: 0.4744\n",
      "Epoch 42/50\n",
      "50000/50000 [==============================] - 2s 43us/step - loss: 0.0900 - acc: 0.9942 - val_loss: 2.3496 - val_acc: 0.4775\n",
      "Epoch 43/50\n",
      "50000/50000 [==============================] - 2s 43us/step - loss: 0.0869 - acc: 0.9944 - val_loss: 2.3897 - val_acc: 0.4712\n",
      "Epoch 44/50\n",
      "50000/50000 [==============================] - 2s 43us/step - loss: 0.0825 - acc: 0.9955 - val_loss: 2.3786 - val_acc: 0.4781\n",
      "Epoch 45/50\n",
      "50000/50000 [==============================] - 2s 44us/step - loss: 0.0799 - acc: 0.9957 - val_loss: 2.4179 - val_acc: 0.4745\n",
      "Epoch 46/50\n",
      "50000/50000 [==============================] - 2s 43us/step - loss: 0.0761 - acc: 0.9964 - val_loss: 2.3953 - val_acc: 0.4733\n",
      "Epoch 47/50\n",
      "50000/50000 [==============================] - 2s 43us/step - loss: 0.0740 - acc: 0.9963 - val_loss: 2.4127 - val_acc: 0.4754\n",
      "Epoch 48/50\n",
      "50000/50000 [==============================] - 2s 49us/step - loss: 0.0708 - acc: 0.9968 - val_loss: 2.4432 - val_acc: 0.4759\n",
      "Epoch 49/50\n",
      "50000/50000 [==============================] - 2s 47us/step - loss: 0.0683 - acc: 0.9968 - val_loss: 2.4444 - val_acc: 0.4777\n"
     ]
    },
    {
     "name": "stdout",
     "output_type": "stream",
     "text": [
      "Epoch 50/50\n",
      "50000/50000 [==============================] - 2s 43us/step - loss: 0.0658 - acc: 0.9971 - val_loss: 2.4599 - val_acc: 0.4706\n",
      "10000/10000 [==============================] - 1s 74us/step\n"
     ]
    }
   ],
   "source": [
    "# Load back and train again\n",
    "model = keras.models.load_model(\"./tmp_hw.h5\")\n",
    "model.summary()\n",
    "optimizer = keras.optimizers.SGD(lr=LEARNING_RATE, nesterov=True, momentum=MOMENTUM)\n",
    "model.compile(loss=\"categorical_crossentropy\", metrics=[\"accuracy\"], optimizer=optimizer)\n",
    "\n",
    "model.fit(x_train, y_train, \n",
    "          epochs=EPOCHS, \n",
    "          batch_size=BATCH_SIZE, \n",
    "          validation_data=(x_test, y_test), \n",
    "          shuffle=True,\n",
    "          callbacks=[model_ckpt]\n",
    "         )\n",
    "\n",
    "\n",
    "\n",
    "loss_loadback, acc_loadback = model.evaluate(x_test, y_test)"
   ]
  },
  {
   "cell_type": "code",
   "execution_count": 22,
   "metadata": {},
   "outputs": [
    {
     "data": {
      "image/png": "[encoded data removed]",
      "text/plain": [
       "<Figure size 432x288 with 1 Axes>"
      ]
     },
     "metadata": {
      "needs_background": "light"
     },
     "output_type": "display_data"
    },
    {
     "data": {
      "image/png": "[encoded data removed]",
      "text/plain": [
       "<Figure size 432x288 with 1 Axes>"
      ]
     },
     "metadata": {
      "needs_background": "light"
     },
     "output_type": "display_data"
    }
   ],
   "source": [
    "plt.plot(range(len(train_loss)), train_loss, label=\"train loss\")\n",
    "plt.plot(range(len(valid_loss)), valid_loss, label=\"valid loss\")\n",
    "plt.hlines(y=loss_loadback, xmin=0, xmax=len(train_loss), colors='r', linestyles='--')\n",
    "plt.legend()\n",
    "plt.title(\"Loss\")\n",
    "plt.show()\n",
    "\n",
    "plt.plot(range(len(train_acc)), train_acc, label=\"train accuracy\")\n",
    "plt.plot(range(len(valid_acc)), valid_acc, label=\"valid accuracy\")\n",
    "plt.hlines(y=acc_loadback, xmin=0, xmax=len(train_loss), colors='r', linestyles='--')\n",
    "plt.legend()\n",
    "plt.title(\"Accuracy\")\n",
    "plt.show()"
   ]
  }
 ],
 "metadata": {
  "kernelspec": {
   "display_name": "Python 3",
   "language": "python",
   "name": "python3"
  },
  "language_info": {
   "codemirror_mode": {
    "name": "ipython",
    "version": 3
   },
   "file_extension": ".py",
   "mimetype": "text/x-python",
   "name": "python",
   "nbconvert_exporter": "python",
   "pygments_lexer": "ipython3",
   "version": "3.7.3"
  }
 },
 "nbformat": 4,
 "nbformat_minor": 2
}
