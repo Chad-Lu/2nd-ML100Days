{
 "cells": [
  {
   "cell_type": "code",
   "execution_count": 1,
   "metadata": {},
   "outputs": [],
   "source": [
    "#import需要的檔案\n",
    "import numpy as np\n",
    "import pandas as pd\n",
    "import random"
   ]
  },
  {
   "cell_type": "code",
   "execution_count": 2,
   "metadata": {},
   "outputs": [],
   "source": [
    "#建立國家名稱與隨機人口數量\n",
    "countries = ['USA', 'UK', 'JP', 'CH','TW']\n",
    "population = [int(np.random.rand(1)* random.randint(10000,100000000)),int(np.random.rand(1)* random.randint(10000,100000000)),int(np.random.rand(1)* random.randint(10000,100000000)),int(np.random.rand(1)* random.randint(10000,100000000)),int(np.random.rand(1)* random.randint(10000,100000000))]"
   ]
  },
  {
   "cell_type": "code",
   "execution_count": 3,
   "metadata": {},
   "outputs": [],
   "source": [
    "#設置標籤\n",
    "list_labels = ['country', 'population']\n",
    "list_cols = [countries, population]"
   ]
  },
  {
   "cell_type": "code",
   "execution_count": 4,
   "metadata": {},
   "outputs": [
    {
     "name": "stdout",
     "output_type": "stream",
     "text": [
      "  country  population\n",
      "0     USA    48517929\n",
      "1      UK     2594008\n",
      "2      JP    21966255\n",
      "3      CH    14990291\n",
      "4      TW     6489066\n"
     ]
    }
   ],
   "source": [
    "#帶入list\n",
    "zipped = list(zip(list_labels, list_cols))\n",
    "#轉為DataFrame\n",
    "result = pd.DataFrame(dict(zipped))\n",
    "print(result)"
   ]
  }
 ],
 "metadata": {
  "kernelspec": {
   "display_name": "Python 3",
   "language": "python",
   "name": "python3"
  },
  "language_info": {
   "codemirror_mode": {
    "name": "ipython",
    "version": 3
   },
   "file_extension": ".py",
   "mimetype": "text/x-python",
   "name": "python",
   "nbconvert_exporter": "python",
   "pygments_lexer": "ipython3",
   "version": "3.7.1"
  }
 },
 "nbformat": 4,
 "nbformat_minor": 2
}
