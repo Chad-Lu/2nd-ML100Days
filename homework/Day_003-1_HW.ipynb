{
 "cells": [
  {
   "cell_type": "code",
   "execution_count": 13,
   "metadata": {},
   "outputs": [],
   "source": [
    "#import需要的檔案\n",
    "import numpy as np\n",
    "import pandas as pd\n",
    "import random"
   ]
  },
  {
   "cell_type": "code",
   "execution_count": 14,
   "metadata": {},
   "outputs": [
    {
     "name": "stdout",
     "output_type": "stream",
     "text": [
      "    國家     人口\n",
      "0  USA  81683\n",
      "1   UK  67413\n",
      "2   JP  73119\n",
      "3   CH  68180\n",
      "4   TW  74569\n"
     ]
    }
   ],
   "source": [
    "#建立國家名稱與隨機人口數量\n",
    "data = {'國家':['USA', 'UK', 'JP', 'CH','TW'] ,\n",
    "        '人口':np.random.randint(50000,100000,5) }\n",
    "data = pd.DataFrame(data)\n",
    "print(data)"
   ]
  },
  {
   "cell_type": "code",
   "execution_count": 15,
   "metadata": {},
   "outputs": [
    {
     "name": "stdout",
     "output_type": "stream",
     "text": [
      "    國家     人口\n",
      "0  USA  81683\n"
     ]
    }
   ],
   "source": [
    "#用排序法存值後，再依序取出\n",
    "max_population = data.sort_values(['人口'],ascending=False).head(1)\n",
    "print(max_population)"
   ]
  },
  {
   "cell_type": "code",
   "execution_count": 16,
   "metadata": {},
   "outputs": [
    {
     "name": "stdout",
     "output_type": "stream",
     "text": [
      "最多人口的國家為:USA 人口為:81683\n"
     ]
    }
   ],
   "source": [
    "print('最多人口的國家為:{}'.format(max_population['國家'].item()),'人口為:{}'.format(max_population['人口'].item()))"
   ]
  }
 ],
 "metadata": {
  "kernelspec": {
   "display_name": "Python 3",
   "language": "python",
   "name": "python3"
  },
  "language_info": {
   "codemirror_mode": {
    "name": "ipython",
    "version": 3
   },
   "file_extension": ".py",
   "mimetype": "text/x-python",
   "name": "python",
   "nbconvert_exporter": "python",
   "pygments_lexer": "ipython3",
   "version": "3.7.1"
  }
 },
 "nbformat": 4,
 "nbformat_minor": 2
}
