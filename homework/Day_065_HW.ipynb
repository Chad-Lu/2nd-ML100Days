{
 "cells": [
  {
   "cell_type": "markdown",
   "metadata": {},
   "source": [
    "# 作業\n",
    "* 選擇分類資料集(右下)-螺旋雙臂 - 交錯六群，限定特徵只能使用前兩個，隱藏層 2 層滿 (共 8 * 2 =16 個神經元)，  \n",
    "  遞迴次數只允許跑到500次，但可以自由調整 批次大小、學習速率、啟動函數、正規化選項與參數\n",
    "* 在上述限制下，挑戰看看測試誤差 (Test Loss) 最低能到多少? 請回答你的上述幾項參數與 Test Loss 數"
   ]
  },
  {
   "cell_type": "markdown",
   "metadata": {
    "collapsed": true
   },
   "source": [
    "Batch size: 10 、Learning rate: 0.1 、Activation: Relu 、Regularization: None。Test loss:0.34，Training loss:0.001。\n",
    "web: https://playground.tensorflow.org/#activation=relu&batchSize=10&dataset=spiral&regDataset=reg-plane&learningRate=0.1&regularizationRate=0&noise=0&networkShape=8,8&seed=0.13523&showTestData=false&discretize=false&percTrainData=50&x=true&y=true&xTimesY=false&xSquared=false&ySquared=false&cosX=false&sinX=false&cosY=false&sinY=false&collectStats=false&problem=classification&initZero=false&hideText=false&dataset_hide=false&batchSize_hide=false"
   ]
  }
 ],
 "metadata": {
  "kernelspec": {
   "display_name": "Python 3",
   "language": "python",
   "name": "python3"
  },
  "language_info": {
   "codemirror_mode": {
    "name": "ipython",
    "version": 3
   },
   "file_extension": ".py",
   "mimetype": "text/x-python",
   "name": "python",
   "nbconvert_exporter": "python",
   "pygments_lexer": "ipython3",
   "version": "3.7.1"
  }
 },
 "nbformat": 4,
 "nbformat_minor": 2
}
