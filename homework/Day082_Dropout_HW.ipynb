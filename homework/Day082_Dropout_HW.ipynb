{
 "cells": [
  {
   "cell_type": "markdown",
   "metadata": {},
   "source": [
    "## Work\n",
    "1. 請比較使用不同層數以及不同 Dropout rate 對訓練的效果\n",
    "2. 將 optimizer 改成使用 Adam 並加上適當的 dropout rate 檢視結果"
   ]
  },
  {
   "cell_type": "code",
   "execution_count": 6,
   "metadata": {},
   "outputs": [],
   "source": [
    "import os\n",
    "import keras\n",
    "import itertools\n",
    "# Disable GPU\n",
    "os.environ[\"CUDA_VISIBLE_DEVICES\"] = \"0\""
   ]
  },
  {
   "cell_type": "code",
   "execution_count": 7,
   "metadata": {},
   "outputs": [],
   "source": [
    "train, test = keras.datasets.cifar10.load_data()"
   ]
  },
  {
   "cell_type": "code",
   "execution_count": 8,
   "metadata": {},
   "outputs": [],
   "source": [
    "## 資料前處理\n",
    "def preproc_x(x, flatten=True):\n",
    "    x = x / 255.\n",
    "    if flatten:\n",
    "        x = x.reshape((len(x), -1))\n",
    "    return x\n",
    "\n",
    "def preproc_y(y, num_classes=10):\n",
    "    if y.shape[-1] == 1:\n",
    "        y = keras.utils.to_categorical(y, num_classes)\n",
    "    return y    "
   ]
  },
  {
   "cell_type": "code",
   "execution_count": 9,
   "metadata": {},
   "outputs": [],
   "source": [
    "x_train, y_train = train\n",
    "x_test, y_test = test\n",
    "\n",
    "# Preproc the inputs\n",
    "x_train = preproc_x(x_train)\n",
    "x_test = preproc_x(x_test)\n",
    "\n",
    "# Preprc the outputs\n",
    "y_train = preproc_y(y_train)\n",
    "y_test = preproc_y(y_test)"
   ]
  },
  {
   "cell_type": "code",
   "execution_count": 10,
   "metadata": {},
   "outputs": [],
   "source": [
    "from keras.layers import Dropout\n",
    "\n",
    "def build_mlp(input_shape, output_units=10, num_neurons=[512, 256, 128], drp_ratio=0.2):\n",
    "    input_layer = keras.layers.Input(input_shape)\n",
    "    \n",
    "    for i, n_units in enumerate(num_neurons):\n",
    "        if i == 0:\n",
    "            x = keras.layers.Dense(units=n_units, \n",
    "                                   activation=\"relu\", \n",
    "                                   name=\"hidden_layer\"+str(i+1))(input_layer)\n",
    "            x = Dropout(drp_ratio)(x)\n",
    "        else:\n",
    "            x = keras.layers.Dense(units=n_units, \n",
    "                                   activation=\"relu\", \n",
    "                                   name=\"hidden_layer\"+str(i+1))(x)\n",
    "            x = Dropout(drp_ratio)(x)\n",
    "    \n",
    "    out = keras.layers.Dense(units=output_units, activation=\"softmax\", name=\"output\")(x)\n",
    "    \n",
    "    model = keras.models.Model(inputs=[input_layer], outputs=[out])\n",
    "    return model"
   ]
  },
  {
   "cell_type": "code",
   "execution_count": 11,
   "metadata": {},
   "outputs": [],
   "source": [
    "\"\"\"Code Here\n",
    "設定超參數\n",
    "\"\"\"\n",
    "## 超參數設定\n",
    "LEARNING_RATE = 1e-3\n",
    "EPOCHS = 50\n",
    "BATCH_SIZE = 256\n",
    "MOMENTUM = 0.95\n",
    "Dropout_EXP = 0.5"
   ]
  },
  {
   "cell_type": "code",
   "execution_count": 12,
   "metadata": {
    "scrolled": true
   },
   "outputs": [
    {
     "name": "stdout",
     "output_type": "stream",
     "text": [
      "WARNING:tensorflow:From C:\\Users\\chad\\Anaconda3\\lib\\site-packages\\tensorflow\\python\\framework\\op_def_library.py:263: colocate_with (from tensorflow.python.framework.ops) is deprecated and will be removed in a future version.\n",
      "Instructions for updating:\n",
      "Colocations handled automatically by placer.\n",
      "WARNING:tensorflow:From C:\\Users\\chad\\Anaconda3\\lib\\site-packages\\keras\\backend\\tensorflow_backend.py:3445: calling dropout (from tensorflow.python.ops.nn_ops) with keep_prob is deprecated and will be removed in a future version.\n",
      "Instructions for updating:\n",
      "Please use `rate` instead of `keep_prob`. Rate should be set to `rate = 1 - keep_prob`.\n",
      "_________________________________________________________________\n",
      "Layer (type)                 Output Shape              Param #   \n",
      "=================================================================\n",
      "input_1 (InputLayer)         (None, 3072)              0         \n",
      "_________________________________________________________________\n",
      "hidden_layer1 (Dense)        (None, 512)               1573376   \n",
      "_________________________________________________________________\n",
      "dropout_1 (Dropout)          (None, 512)               0         \n",
      "_________________________________________________________________\n",
      "hidden_layer2 (Dense)        (None, 256)               131328    \n",
      "_________________________________________________________________\n",
      "dropout_2 (Dropout)          (None, 256)               0         \n",
      "_________________________________________________________________\n",
      "hidden_layer3 (Dense)        (None, 128)               32896     \n",
      "_________________________________________________________________\n",
      "dropout_3 (Dropout)          (None, 128)               0         \n",
      "_________________________________________________________________\n",
      "output (Dense)               (None, 10)                1290      \n",
      "=================================================================\n",
      "Total params: 1,738,890\n",
      "Trainable params: 1,738,890\n",
      "Non-trainable params: 0\n",
      "_________________________________________________________________\n",
      "WARNING:tensorflow:From C:\\Users\\chad\\Anaconda3\\lib\\site-packages\\tensorflow\\python\\ops\\math_ops.py:3066: to_int32 (from tensorflow.python.ops.math_ops) is deprecated and will be removed in a future version.\n",
      "Instructions for updating:\n",
      "Use tf.cast instead.\n",
      "Train on 50000 samples, validate on 10000 samples\n",
      "Epoch 1/50\n",
      "50000/50000 [==============================] - 5s 100us/step - loss: 2.3010 - acc: 0.1386 - val_loss: 2.1631 - val_acc: 0.2478\n",
      "Epoch 2/50\n",
      "50000/50000 [==============================] - 3s 59us/step - loss: 2.1700 - acc: 0.1866 - val_loss: 2.0415 - val_acc: 0.2770\n",
      "Epoch 3/50\n",
      "50000/50000 [==============================] - 3s 60us/step - loss: 2.0996 - acc: 0.2122 - val_loss: 1.9837 - val_acc: 0.3039\n",
      "Epoch 4/50\n",
      "50000/50000 [==============================] - 3s 63us/step - loss: 2.0516 - acc: 0.2337 - val_loss: 1.9231 - val_acc: 0.3269\n",
      "Epoch 5/50\n",
      "50000/50000 [==============================] - 3s 59us/step - loss: 2.0099 - acc: 0.2500 - val_loss: 1.8914 - val_acc: 0.3392\n",
      "Epoch 6/50\n",
      "50000/50000 [==============================] - 3s 63us/step - loss: 1.9835 - acc: 0.2639 - val_loss: 1.8578 - val_acc: 0.3477\n",
      "Epoch 7/50\n",
      "50000/50000 [==============================] - 3s 61us/step - loss: 1.9553 - acc: 0.2772 - val_loss: 1.8309 - val_acc: 0.3575\n",
      "Epoch 8/50\n",
      "50000/50000 [==============================] - 3s 59us/step - loss: 1.9330 - acc: 0.2885 - val_loss: 1.8116 - val_acc: 0.3612\n",
      "Epoch 9/50\n",
      "50000/50000 [==============================] - 3s 58us/step - loss: 1.9130 - acc: 0.2985 - val_loss: 1.7934 - val_acc: 0.3695\n",
      "Epoch 10/50\n",
      "50000/50000 [==============================] - 3s 58us/step - loss: 1.9005 - acc: 0.3020 - val_loss: 1.7701 - val_acc: 0.3770\n",
      "Epoch 11/50\n",
      "50000/50000 [==============================] - 3s 57us/step - loss: 1.8816 - acc: 0.3087 - val_loss: 1.7558 - val_acc: 0.3849\n",
      "Epoch 12/50\n",
      "50000/50000 [==============================] - 3s 57us/step - loss: 1.8686 - acc: 0.3160 - val_loss: 1.7383 - val_acc: 0.3908\n",
      "Epoch 13/50\n",
      "50000/50000 [==============================] - 3s 57us/step - loss: 1.8539 - acc: 0.3221 - val_loss: 1.7201 - val_acc: 0.3965\n",
      "Epoch 14/50\n",
      "50000/50000 [==============================] - 3s 57us/step - loss: 1.8381 - acc: 0.3286 - val_loss: 1.7112 - val_acc: 0.3986\n",
      "Epoch 15/50\n",
      "50000/50000 [==============================] - 3s 57us/step - loss: 1.8228 - acc: 0.3374 - val_loss: 1.6912 - val_acc: 0.4075\n",
      "Epoch 16/50\n",
      "50000/50000 [==============================] - 3s 57us/step - loss: 1.8147 - acc: 0.3421 - val_loss: 1.6780 - val_acc: 0.4091\n",
      "Epoch 17/50\n",
      "50000/50000 [==============================] - 3s 58us/step - loss: 1.7996 - acc: 0.3481 - val_loss: 1.6613 - val_acc: 0.4227\n",
      "Epoch 18/50\n",
      "50000/50000 [==============================] - 3s 60us/step - loss: 1.7922 - acc: 0.3515 - val_loss: 1.6543 - val_acc: 0.4273\n",
      "Epoch 19/50\n",
      "50000/50000 [==============================] - 3s 65us/step - loss: 1.7838 - acc: 0.3537 - val_loss: 1.6409 - val_acc: 0.4266\n",
      "Epoch 20/50\n",
      "50000/50000 [==============================] - 3s 66us/step - loss: 1.7674 - acc: 0.3592 - val_loss: 1.6329 - val_acc: 0.4316\n",
      "Epoch 21/50\n",
      "50000/50000 [==============================] - 3s 61us/step - loss: 1.7594 - acc: 0.3670 - val_loss: 1.6247 - val_acc: 0.4288\n",
      "Epoch 22/50\n",
      "50000/50000 [==============================] - 3s 62us/step - loss: 1.7458 - acc: 0.3698 - val_loss: 1.6046 - val_acc: 0.4350\n",
      "Epoch 23/50\n",
      "50000/50000 [==============================] - 3s 60us/step - loss: 1.7453 - acc: 0.3729 - val_loss: 1.6109 - val_acc: 0.4359\n",
      "Epoch 24/50\n",
      "50000/50000 [==============================] - 3s 58us/step - loss: 1.7327 - acc: 0.3734 - val_loss: 1.5953 - val_acc: 0.4433\n",
      "Epoch 25/50\n",
      "50000/50000 [==============================] - 3s 56us/step - loss: 1.7317 - acc: 0.3764 - val_loss: 1.5938 - val_acc: 0.4462\n",
      "Epoch 26/50\n",
      "50000/50000 [==============================] - 3s 56us/step - loss: 1.7217 - acc: 0.3800 - val_loss: 1.5802 - val_acc: 0.4440\n",
      "Epoch 27/50\n",
      "50000/50000 [==============================] - 3s 57us/step - loss: 1.7113 - acc: 0.3848 - val_loss: 1.5706 - val_acc: 0.4448\n",
      "Epoch 28/50\n",
      "50000/50000 [==============================] - 3s 56us/step - loss: 1.7047 - acc: 0.3856 - val_loss: 1.5687 - val_acc: 0.4508\n",
      "Epoch 29/50\n",
      "50000/50000 [==============================] - 3s 57us/step - loss: 1.6923 - acc: 0.3890 - val_loss: 1.5606 - val_acc: 0.4535\n",
      "Epoch 30/50\n",
      "50000/50000 [==============================] - 3s 56us/step - loss: 1.6942 - acc: 0.3925 - val_loss: 1.5657 - val_acc: 0.4460\n",
      "Epoch 31/50\n",
      "50000/50000 [==============================] - 3s 56us/step - loss: 1.6880 - acc: 0.3921 - val_loss: 1.5476 - val_acc: 0.4533\n",
      "Epoch 32/50\n",
      "50000/50000 [==============================] - 3s 56us/step - loss: 1.6823 - acc: 0.3924 - val_loss: 1.5392 - val_acc: 0.4607\n",
      "Epoch 33/50\n",
      "50000/50000 [==============================] - 3s 56us/step - loss: 1.6741 - acc: 0.3986 - val_loss: 1.5335 - val_acc: 0.4611\n",
      "Epoch 34/50\n",
      "50000/50000 [==============================] - 3s 56us/step - loss: 1.6711 - acc: 0.3991 - val_loss: 1.5356 - val_acc: 0.4562\n",
      "Epoch 35/50\n",
      "50000/50000 [==============================] - 3s 57us/step - loss: 1.6601 - acc: 0.4047 - val_loss: 1.5263 - val_acc: 0.4608\n",
      "Epoch 36/50\n",
      "50000/50000 [==============================] - 3s 55us/step - loss: 1.6588 - acc: 0.4054 - val_loss: 1.5278 - val_acc: 0.4583\n",
      "Epoch 37/50\n",
      "50000/50000 [==============================] - 3s 56us/step - loss: 1.6537 - acc: 0.4049 - val_loss: 1.5164 - val_acc: 0.4658\n",
      "Epoch 38/50\n",
      "50000/50000 [==============================] - 3s 56us/step - loss: 1.6423 - acc: 0.4099 - val_loss: 1.5129 - val_acc: 0.4707\n",
      "Epoch 39/50\n",
      "50000/50000 [==============================] - 3s 56us/step - loss: 1.6418 - acc: 0.4132 - val_loss: 1.5036 - val_acc: 0.4671\n",
      "Epoch 40/50\n",
      "50000/50000 [==============================] - 3s 56us/step - loss: 1.6391 - acc: 0.4093 - val_loss: 1.5011 - val_acc: 0.4711\n",
      "Epoch 41/50\n",
      "50000/50000 [==============================] - 3s 56us/step - loss: 1.6336 - acc: 0.4113 - val_loss: 1.5005 - val_acc: 0.4738\n",
      "Epoch 42/50\n",
      "50000/50000 [==============================] - 3s 57us/step - loss: 1.6290 - acc: 0.4131 - val_loss: 1.4941 - val_acc: 0.4696\n",
      "Epoch 43/50\n"
     ]
    },
    {
     "name": "stdout",
     "output_type": "stream",
     "text": [
      "50000/50000 [==============================] - 3s 58us/step - loss: 1.6172 - acc: 0.4175 - val_loss: 1.4938 - val_acc: 0.4745\n",
      "Epoch 44/50\n",
      "50000/50000 [==============================] - 3s 60us/step - loss: 1.6137 - acc: 0.4183 - val_loss: 1.4845 - val_acc: 0.4758\n",
      "Epoch 45/50\n",
      "50000/50000 [==============================] - 3s 60us/step - loss: 1.6133 - acc: 0.4218 - val_loss: 1.4971 - val_acc: 0.4695\n",
      "Epoch 46/50\n",
      "50000/50000 [==============================] - 3s 57us/step - loss: 1.6079 - acc: 0.4237 - val_loss: 1.4783 - val_acc: 0.4778\n",
      "Epoch 47/50\n",
      "50000/50000 [==============================] - 3s 57us/step - loss: 1.6052 - acc: 0.4220 - val_loss: 1.4895 - val_acc: 0.4723\n",
      "Epoch 48/50\n",
      "50000/50000 [==============================] - 3s 57us/step - loss: 1.6011 - acc: 0.4237 - val_loss: 1.4775 - val_acc: 0.4721\n",
      "Epoch 49/50\n",
      "50000/50000 [==============================] - 3s 56us/step - loss: 1.5928 - acc: 0.4269 - val_loss: 1.4712 - val_acc: 0.4763\n",
      "Epoch 50/50\n",
      "50000/50000 [==============================] - 3s 56us/step - loss: 1.5926 - acc: 0.4289 - val_loss: 1.4688 - val_acc: 0.4777\n"
     ]
    }
   ],
   "source": [
    "\"\"\"Code Here\n",
    "撰寫你的訓練流程並將結果用 dictionary 紀錄\n",
    "\"\"\"\n",
    "model = build_mlp(input_shape=x_train.shape[1:], drp_ratio=Dropout_EXP)\n",
    "model.summary()\n",
    "optimizer = keras.optimizers.SGD(lr=LEARNING_RATE, nesterov=True, momentum=MOMENTUM)\n",
    "model.compile(loss=\"categorical_crossentropy\", metrics=[\"accuracy\"], optimizer=optimizer)\n",
    "\n",
    "model.fit(x_train, y_train, \n",
    "          epochs=EPOCHS, \n",
    "          batch_size=BATCH_SIZE, \n",
    "          validation_data=(x_test, y_test), \n",
    "          shuffle=True)\n",
    "\n",
    "# Collect results\n",
    "train_loss = model.history.history[\"loss\"]\n",
    "valid_loss = model.history.history[\"val_loss\"]\n",
    "train_acc = model.history.history[\"acc\"]\n",
    "valid_acc = model.history.history[\"val_acc\"]"
   ]
  },
  {
   "cell_type": "code",
   "execution_count": 13,
   "metadata": {},
   "outputs": [
    {
     "data": {
      "image/png": "[encoded data removed]",
      "text/plain": [
       "<Figure size 432x288 with 1 Axes>"
      ]
     },
     "metadata": {
      "needs_background": "light"
     },
     "output_type": "display_data"
    },
    {
     "data": {
      "image/png": "[encoded data removed]",
      "text/plain": [
       "<Figure size 432x288 with 1 Axes>"
      ]
     },
     "metadata": {
      "needs_background": "light"
     },
     "output_type": "display_data"
    }
   ],
   "source": [
    "import matplotlib.pyplot as plt\n",
    "%matplotlib inline\n",
    "\"\"\"Code Here\n",
    "將結果繪出\n",
    "\"\"\"\n",
    "plt.plot(range(len(train_loss)), train_loss, label=\"train loss\")\n",
    "plt.plot(range(len(valid_loss)), valid_loss, label=\"valid loss\")\n",
    "plt.legend()\n",
    "plt.title(\"Loss\")\n",
    "plt.show()\n",
    "\n",
    "plt.plot(range(len(train_acc)), train_acc, label=\"train accuracy\")\n",
    "plt.plot(range(len(valid_acc)), valid_acc, label=\"valid accuracy\")\n",
    "plt.legend()\n",
    "plt.title(\"Accuracy\")\n",
    "plt.show()"
   ]
  }
 ],
 "metadata": {
  "kernelspec": {
   "display_name": "Python 3",
   "language": "python",
   "name": "python3"
  },
  "language_info": {
   "codemirror_mode": {
    "name": "ipython",
    "version": 3
   },
   "file_extension": ".py",
   "mimetype": "text/x-python",
   "name": "python",
   "nbconvert_exporter": "python",
   "pygments_lexer": "ipython3",
   "version": "3.7.3"
  }
 },
 "nbformat": 4,
 "nbformat_minor": 2
}
