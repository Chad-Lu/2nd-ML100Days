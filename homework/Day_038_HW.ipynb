{
 "cells": [
  {
   "cell_type": "markdown",
   "metadata": {},
   "source": [
    "## [作業重點]\n",
    "使用 Sklearn 中的線性迴歸模型，來訓練各種資料集，務必了解送進去模型訓練的**資料型態**為何，也請了解模型中各項參數的意義"
   ]
  },
  {
   "cell_type": "markdown",
   "metadata": {},
   "source": [
    "## 作業\n",
    "試著使用 sklearn datasets 的其他資料集 (wine, boston, ...)，來訓練自己的線性迴歸模型。"
   ]
  },
  {
   "cell_type": "markdown",
   "metadata": {},
   "source": [
    "### HINT: 注意 label 的型態，確定資料集的目標是分類還是回歸，在使用正確的模型訓練！"
   ]
  },
  {
   "cell_type": "code",
   "execution_count": 137,
   "metadata": {},
   "outputs": [],
   "source": [
    "import numpy as np\n",
    "import matplotlib.pyplot as plt\n",
    "from sklearn import datasets, linear_model\n",
    "from sklearn.model_selection import train_test_split\n",
    "from sklearn.metrics import mean_squared_error, r2_score, accuracy_score"
   ]
  },
  {
   "cell_type": "code",
   "execution_count": 138,
   "metadata": {},
   "outputs": [
    {
     "name": "stdout",
     "output_type": "stream",
     "text": [
      "boston : (506, 13)\n",
      "breast_cancer : (569, 30)\n",
      "wine : (178, 13)\n"
     ]
    }
   ],
   "source": [
    "boston = datasets.load_boston() #線性回歸\n",
    "breast_cancer = datasets.load_breast_cancer() #羅吉斯(分兩類)\n",
    "wine = datasets.load_wine() #羅吉斯(分三類)\n",
    "print('boston :',boston.data.shape)\n",
    "print('breast_cancer :',breast_cancer.data.shape)\n",
    "print('wine :',wine.data.shape)"
   ]
  },
  {
   "cell_type": "markdown",
   "metadata": {},
   "source": [
    "###  boston 房價  (線性回歸)"
   ]
  },
  {
   "cell_type": "code",
   "execution_count": 139,
   "metadata": {
    "scrolled": true
   },
   "outputs": [
    {
     "name": "stdout",
     "output_type": "stream",
     "text": [
      "boston : (506, 1)\n",
      "pred: [24.39284968 26.05400345 25.56542881 22.62095233 25.48074254 22.4776371\n",
      " 28.72487813 17.72869163 17.72869163 16.76457101 27.05721004 24.98565358\n",
      " 23.070441   16.76457101 23.070441   17.72869163 24.39284968 17.72869163\n",
      " 17.72869163 24.21696281 17.72869163 16.76457101 12.81037361 23.94336102\n",
      " 26.659836   23.94336102 22.62095233 15.25976113 17.72869163 23.94336102\n",
      " 17.72869163 27.14841064 26.9334378  12.81037361 17.72869163 17.72869163\n",
      " 27.29824019 25.48074254 26.17777569 22.4776371  28.19721753 16.76457101\n",
      " 17.72869163 27.61092796 25.48074254 27.32429751 29.2199671  25.01822522\n",
      " 17.72869163 22.62095233 26.2950336  16.76457101 17.72869163 20.45168094\n",
      " 15.25976113 22.99878338 23.94336102 25.34394164 24.21696281 25.34394164\n",
      " 15.25976113 17.72869163 27.27869721 11.44887896 26.9334378  28.21024618\n",
      " 17.72869163 17.72869163 17.72869163 17.72869163 22.62095233 24.39284968\n",
      " 26.17777569 26.30806226 12.81037361 28.62064888 15.25976113 23.070441\n",
      " 17.72869163 23.94336102 25.01822522 17.72869163 26.35366256 24.21696281\n",
      " 25.34394164 21.74803231 28.52944828 23.2072419  22.62095233 27.35035482\n",
      " 25.48074254 27.77378617 23.070441   25.48074254 24.71205178 23.070441\n",
      " 24.98565358 17.72869163 16.76457101 26.13868972 17.72869163 20.47122393]\n"
     ]
    }
   ],
   "source": [
    "# 為方便視覺化，我們只使用資料集中的 1 個 feature (column)\n",
    "X = boston.data[:, np.newaxis, 2]\n",
    "\n",
    "print('boston :',X.shape)\n",
    "\n",
    "x_train, x_test, y_train, y_test = train_test_split(X , boston.target, test_size=0.2, random_state=4)\n",
    "\n",
    "reg = linear_model.LinearRegression() #加入線性回歸模型\n",
    "\n",
    "reg.fit(x_train,y_train) #帶入訓練\n",
    "\n",
    "pred = reg.predict(x_test) #使用資料預測\n",
    "\n",
    "print('pred:',pred)\n"
   ]
  },
  {
   "cell_type": "code",
   "execution_count": 140,
   "metadata": {},
   "outputs": [
    {
     "name": "stdout",
     "output_type": "stream",
     "text": [
      "Coefficients:  [-0.65143285]\n",
      "Mean squared error: 75.47\n"
     ]
    }
   ],
   "source": [
    "# 可以看回歸模型的參數值\n",
    "print('Coefficients: ', reg.coef_)\n",
    "\n",
    "# 預測值與實際值的差距，使用 MSE\n",
    "print(\"Mean squared error: %.2f\"\n",
    "      % mean_squared_error(y_test, pred))"
   ]
  },
  {
   "cell_type": "code",
   "execution_count": 141,
   "metadata": {
    "scrolled": true
   },
   "outputs": [
    {
     "data": {
      "image/png": "[encoded data removed]",
      "text/plain": [
       "<Figure size 432x288 with 1 Axes>"
      ]
     },
     "metadata": {
      "needs_background": "light"
     },
     "output_type": "display_data"
    }
   ],
   "source": [
    "# 畫出回歸模型與實際資料的分佈\n",
    "plt.scatter(x_test, y_test,  color='black')\n",
    "plt.plot(x_test, pred, color='blue', linewidth=3)\n",
    "plt.show()"
   ]
  },
  {
   "cell_type": "markdown",
   "metadata": {},
   "source": [
    "###  breast_cancer    (羅吉斯回歸)"
   ]
  },
  {
   "cell_type": "code",
   "execution_count": 142,
   "metadata": {},
   "outputs": [
    {
     "name": "stdout",
     "output_type": "stream",
     "text": [
      "pred: [0 1 0 0 0 0 1 1 0 1 0 1 1 1 1 1 1 1 1 1 1 1 0 1 1 0 1 1 1 1 1 1 1 0 1 0 1\n",
      " 0 0 0 1 1 0 1 1 1 0 0 1 1 0 1 1 0 1 1 0 1 1 0 1 1 1 0 1 1 1 1 0 0 1 1 1 0\n",
      " 1 0 0 1 1 1 1 0 0 1 1 1 1 1 0 1 1 0 1 0 0 1 0 1 1 1 1 0 0 1 1 1 1 1 1 0 0\n",
      " 0 0 1]\n"
     ]
    },
    {
     "name": "stderr",
     "output_type": "stream",
     "text": [
      "C:\\Users\\chad\\Anaconda3\\lib\\site-packages\\sklearn\\linear_model\\logistic.py:432: FutureWarning: Default solver will be changed to 'lbfgs' in 0.22. Specify a solver to silence this warning.\n",
      "  FutureWarning)\n"
     ]
    }
   ],
   "source": [
    "x_train, x_test, y_train, y_test = train_test_split(breast_cancer.data , breast_cancer.target, test_size=0.2, random_state=4)\n",
    "\n",
    "logreg = linear_model.LogisticRegression() #加入羅吉斯模型\n",
    "\n",
    "logreg.fit(x_train,y_train) #訓練資料\n",
    "\n",
    "pred = logreg.predict(x_test) #預測資料\n",
    "\n",
    "print('pred:',pred)\n"
   ]
  },
  {
   "cell_type": "code",
   "execution_count": 143,
   "metadata": {},
   "outputs": [
    {
     "name": "stdout",
     "output_type": "stream",
     "text": [
      "Accuracy: 0.9122807017543859\n"
     ]
    }
   ],
   "source": [
    "acc = accuracy_score(y_test, pred)\n",
    "print('Accuracy:',acc)"
   ]
  },
  {
   "cell_type": "markdown",
   "metadata": {},
   "source": [
    "###  wine   (羅吉斯回歸)"
   ]
  },
  {
   "cell_type": "code",
   "execution_count": 144,
   "metadata": {},
   "outputs": [
    {
     "name": "stdout",
     "output_type": "stream",
     "text": [
      "[2 2 0 0 1 2 0 0 0 1 1 0 2 2 0 1 0 1 1 2 1 2 1 2 0 2 1 1 2 2 0 1 0 1 2 2]\n"
     ]
    },
    {
     "name": "stderr",
     "output_type": "stream",
     "text": [
      "C:\\Users\\chad\\Anaconda3\\lib\\site-packages\\sklearn\\linear_model\\logistic.py:432: FutureWarning: Default solver will be changed to 'lbfgs' in 0.22. Specify a solver to silence this warning.\n",
      "  FutureWarning)\n",
      "C:\\Users\\chad\\Anaconda3\\lib\\site-packages\\sklearn\\linear_model\\logistic.py:469: FutureWarning: Default multi_class will be changed to 'auto' in 0.22. Specify the multi_class option to silence this warning.\n",
      "  \"this warning.\", FutureWarning)\n"
     ]
    }
   ],
   "source": [
    "x_train, x_test, y_train, y_test = train_test_split(wine.data , wine.target, test_size=0.2, random_state=4)\n",
    "\n",
    "logreg = linear_model.LogisticRegression() #加入模型\n",
    "\n",
    "logreg.fit(x_train, y_train) #訓練資料\n",
    "\n",
    "pred = logreg.predict(x_test) #預測模型\n",
    "\n",
    "print(pred)"
   ]
  },
  {
   "cell_type": "code",
   "execution_count": 145,
   "metadata": {},
   "outputs": [
    {
     "name": "stdout",
     "output_type": "stream",
     "text": [
      "Accuracy: 0.9722222222222222\n"
     ]
    }
   ],
   "source": [
    "acc = accuracy_score(y_test, pred)\n",
    "print('Accuracy:',acc)"
   ]
  }
 ],
 "metadata": {
  "kernelspec": {
   "display_name": "Python 3",
   "language": "python",
   "name": "python3"
  },
  "language_info": {
   "codemirror_mode": {
    "name": "ipython",
    "version": 3
   },
   "file_extension": ".py",
   "mimetype": "text/x-python",
   "name": "python",
   "nbconvert_exporter": "python",
   "pygments_lexer": "ipython3",
   "version": "3.7.1"
  }
 },
 "nbformat": 4,
 "nbformat_minor": 2
}
