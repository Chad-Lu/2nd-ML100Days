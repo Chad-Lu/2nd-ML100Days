{
 "cells": [
  {
   "cell_type": "markdown",
   "metadata": {},
   "source": [
    "## 練習時間\n",
    "相信大家對回歸問題及分類問題都有初步的了解。今天的作業希望大家搜尋有關 multi-label 的案例問題。下圖是電影 \"奇異博士\" 的分類。可以看到同時有 \"Action\", \"Adventure\", \"Fantasy\" 的類別存在，代表這是個多標籤的問題。 "
   ]
  },
  {
   "cell_type": "markdown",
   "metadata": {},
   "source": [
    "![image](https://cdn-images-1.medium.com/max/1000/1*r0gYXMSQf5VhdMyl2bRDyg.png)"
   ]
  },
  {
   "cell_type": "markdown",
   "metadata": {},
   "source": [
    "## 請搜尋目標為多標籤問題 (Multi-label) 的機器學習案例，了解其資料來源、目標以及評估指標為何\n",
    "## Hint: 服飾"
   ]
  },
  {
   "cell_type": "markdown",
   "metadata": {},
   "source": [
    "回歸 vs 分類 比較: http://zylix666.blogspot.com/2016/06/supervised-classificationregression.html\n",
    "\n",
    "多分類vs多標籤 參考: https://codertw.com/%E7%A8%8B%E5%BC%8F%E8%AA%9E%E8%A8%80/404276/#outline__6_0_2_1\n",
    "\n",
    "主題: Urban Sound Classification(城市聲音分類)\n",
    "資料來源: (kaggle 競賽)https://www.kaggle.com/pavansanagapati/urban-sound-classification\n",
    "目標: 數據集包含來自10個類別的城市聲音的8732個聲音摘錄（<= 4s），即：空調汽車喇叭兒童播放狗皮鑽探發動機怠炮槍射擊風鎬警笛街音樂的數據，分析各個聲音類別。\n",
    "評估指標: 可使用交叉熵(cross-entropy)或支持向量機(support vector machine)等方法評估。"
   ]
  }
 ],
 "metadata": {
  "kernelspec": {
   "display_name": "Python 3",
   "language": "python",
   "name": "python3"
  },
  "language_info": {
   "codemirror_mode": {
    "name": "ipython",
    "version": 3
   },
   "file_extension": ".py",
   "mimetype": "text/x-python",
   "name": "python",
   "nbconvert_exporter": "python",
   "pygments_lexer": "ipython3",
   "version": "3.7.1"
  }
 },
 "nbformat": 4,
 "nbformat_minor": 2
}
