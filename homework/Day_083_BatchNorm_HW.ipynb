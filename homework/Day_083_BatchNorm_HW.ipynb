{
 "cells": [
  {
   "cell_type": "markdown",
   "metadata": {},
   "source": [
    "## Work\n",
    "1. 試比較有 BN 在 Batch_size = 2, 16, 32, 128, 256 下的差異\n",
    "2. 請嘗試將 BN 放在 Activation 之前，並比較訓練結果\n",
    "3. 請於 BN 放在 Input Layer 後，並比較結果"
   ]
  },
  {
   "cell_type": "code",
   "execution_count": 64,
   "metadata": {},
   "outputs": [],
   "source": [
    "import os\n",
    "import keras\n",
    "import itertools\n",
    "# Disable GPU\n",
    "os.environ[\"CUDA_VISIBLE_DEVICES\"] = \"0\""
   ]
  },
  {
   "cell_type": "code",
   "execution_count": 65,
   "metadata": {},
   "outputs": [],
   "source": [
    "train, test = keras.datasets.cifar10.load_data()"
   ]
  },
  {
   "cell_type": "code",
   "execution_count": 66,
   "metadata": {},
   "outputs": [],
   "source": [
    "## 資料前處理\n",
    "def preproc_x(x, flatten=True):\n",
    "    x = x / 255.\n",
    "    if flatten:\n",
    "        x = x.reshape((len(x), -1))\n",
    "    return x\n",
    "\n",
    "def preproc_y(y, num_classes=10):\n",
    "    if y.shape[-1] == 1:\n",
    "        y = keras.utils.to_categorical(y, num_classes)\n",
    "    return y    "
   ]
  },
  {
   "cell_type": "code",
   "execution_count": 67,
   "metadata": {},
   "outputs": [],
   "source": [
    "x_train, y_train = train\n",
    "x_test, y_test = test\n",
    "\n",
    "# Preproc the inputs\n",
    "x_train = preproc_x(x_train)\n",
    "x_test = preproc_x(x_test)\n",
    "\n",
    "# Preprc the outputs\n",
    "y_train = preproc_y(y_train)\n",
    "y_test = preproc_y(y_test)"
   ]
  },
  {
   "cell_type": "code",
   "execution_count": 68,
   "metadata": {},
   "outputs": [],
   "source": [
    "from keras.layers import BatchNormalization\n",
    "\n",
    "\"\"\"\n",
    "建立神經網路，並加入 BN layer\n",
    "\"\"\"\n",
    "def build_mlp(input_shape, output_units=10, num_neurons=[512, 256, 128, 64]):\n",
    "    input_layer = keras.layers.Input(input_shape)\n",
    "    x =BatchNormalization()(input_layer)  #輸入層後方加入\n",
    "    \n",
    "    for i, n_units in enumerate(num_neurons):\n",
    "        \n",
    "        if i == 0:\n",
    "            \n",
    "            x = keras.layers.Dense(units=n_units, \n",
    "                                   activation=\"relu\", \n",
    "                                   name=\"hidden_layer\"+str(i+1))(x)\n",
    "            x = BatchNormalization()(x) #激勵函數後方加入\n",
    "            \n",
    "        else:\n",
    "            \n",
    "            x = keras.layers.Dense(units=n_units, \n",
    "                                   activation=\"relu\", \n",
    "                                   name=\"hidden_layer\"+str(i+1))(x)\n",
    "            x = BatchNormalization()(x) #激勵函數後方加入\n",
    "            \n",
    "    x = BatchNormalization()(x) #輸出層前方加入\n",
    "    out = keras.layers.Dense(units=output_units, activation=\"softmax\", name=\"output\")(x)\n",
    "    \n",
    "    model = keras.models.Model(inputs=[input_layer], outputs=[out])\n",
    "    return model"
   ]
  },
  {
   "cell_type": "code",
   "execution_count": 69,
   "metadata": {},
   "outputs": [],
   "source": [
    "\"\"\"Code Here\n",
    "設定超參數\n",
    "\"\"\"\n",
    "## 超參數設定\n",
    "LEARNING_RATE = 1e-3\n",
    "EPOCHS = 50\n",
    "BATCH_SIZE = 128 #改為128\n",
    "MOMENTUM = 0.95"
   ]
  },
  {
   "cell_type": "code",
   "execution_count": 70,
   "metadata": {
    "scrolled": true
   },
   "outputs": [
    {
     "name": "stdout",
     "output_type": "stream",
     "text": [
      "_________________________________________________________________\n",
      "Layer (type)                 Output Shape              Param #   \n",
      "=================================================================\n",
      "input_9 (InputLayer)         (None, 3072)              0         \n",
      "_________________________________________________________________\n",
      "batch_normalization_22 (Batc (None, 3072)              12288     \n",
      "_________________________________________________________________\n",
      "hidden_layer1 (Dense)        (None, 512)               1573376   \n",
      "_________________________________________________________________\n",
      "batch_normalization_23 (Batc (None, 512)               2048      \n",
      "_________________________________________________________________\n",
      "hidden_layer2 (Dense)        (None, 256)               131328    \n",
      "_________________________________________________________________\n",
      "batch_normalization_24 (Batc (None, 256)               1024      \n",
      "_________________________________________________________________\n",
      "hidden_layer3 (Dense)        (None, 128)               32896     \n",
      "_________________________________________________________________\n",
      "batch_normalization_25 (Batc (None, 128)               512       \n",
      "_________________________________________________________________\n",
      "hidden_layer4 (Dense)        (None, 64)                8256      \n",
      "_________________________________________________________________\n",
      "batch_normalization_26 (Batc (None, 64)                256       \n",
      "_________________________________________________________________\n",
      "batch_normalization_27 (Batc (None, 64)                256       \n",
      "_________________________________________________________________\n",
      "output (Dense)               (None, 10)                650       \n",
      "=================================================================\n",
      "Total params: 1,762,890\n",
      "Trainable params: 1,754,698\n",
      "Non-trainable params: 8,192\n",
      "_________________________________________________________________\n",
      "Train on 50000 samples, validate on 10000 samples\n",
      "Epoch 1/50\n",
      "50000/50000 [==============================] - 8s 168us/step - loss: 1.7967 - acc: 0.3782 - val_loss: 1.5827 - val_acc: 0.4345\n",
      "Epoch 2/50\n",
      "50000/50000 [==============================] - 7s 133us/step - loss: 1.4702 - acc: 0.4808 - val_loss: 1.4857 - val_acc: 0.4684\n",
      "Epoch 3/50\n",
      "50000/50000 [==============================] - 7s 131us/step - loss: 1.3415 - acc: 0.5264 - val_loss: 1.4384 - val_acc: 0.4876\n",
      "Epoch 4/50\n",
      "50000/50000 [==============================] - 6s 130us/step - loss: 1.2496 - acc: 0.5577 - val_loss: 1.4179 - val_acc: 0.4961\n",
      "Epoch 5/50\n",
      "50000/50000 [==============================] - 7s 130us/step - loss: 1.1672 - acc: 0.5901 - val_loss: 1.4232 - val_acc: 0.4984\n",
      "Epoch 6/50\n",
      "50000/50000 [==============================] - 7s 132us/step - loss: 1.0939 - acc: 0.6139 - val_loss: 1.4165 - val_acc: 0.5095\n",
      "Epoch 7/50\n",
      "50000/50000 [==============================] - 7s 133us/step - loss: 1.0229 - acc: 0.6426 - val_loss: 1.4217 - val_acc: 0.5064\n",
      "Epoch 8/50\n",
      "50000/50000 [==============================] - 6s 127us/step - loss: 0.9585 - acc: 0.6646 - val_loss: 1.4488 - val_acc: 0.4979\n",
      "Epoch 9/50\n",
      "50000/50000 [==============================] - 6s 127us/step - loss: 0.9020 - acc: 0.6866 - val_loss: 1.4656 - val_acc: 0.5093\n",
      "Epoch 10/50\n",
      "50000/50000 [==============================] - 7s 134us/step - loss: 0.8395 - acc: 0.7077 - val_loss: 1.4935 - val_acc: 0.5079\n",
      "Epoch 11/50\n",
      "50000/50000 [==============================] - 6s 127us/step - loss: 0.7873 - acc: 0.7249 - val_loss: 1.5131 - val_acc: 0.5101\n",
      "Epoch 12/50\n",
      "50000/50000 [==============================] - 7s 131us/step - loss: 0.7350 - acc: 0.7457 - val_loss: 1.5539 - val_acc: 0.5011\n",
      "Epoch 13/50\n",
      "50000/50000 [==============================] - 6s 128us/step - loss: 0.6872 - acc: 0.7617 - val_loss: 1.5915 - val_acc: 0.5084\n",
      "Epoch 14/50\n",
      "50000/50000 [==============================] - 7s 131us/step - loss: 0.6431 - acc: 0.7779 - val_loss: 1.6011 - val_acc: 0.5127\n",
      "Epoch 15/50\n",
      "50000/50000 [==============================] - 7s 130us/step - loss: 0.5974 - acc: 0.7941 - val_loss: 1.6507 - val_acc: 0.5108\n",
      "Epoch 16/50\n",
      "50000/50000 [==============================] - 6s 129us/step - loss: 0.5576 - acc: 0.8101 - val_loss: 1.6922 - val_acc: 0.5081\n",
      "Epoch 17/50\n",
      "50000/50000 [==============================] - 7s 132us/step - loss: 0.5275 - acc: 0.8196 - val_loss: 1.7239 - val_acc: 0.5019\n",
      "Epoch 18/50\n",
      "50000/50000 [==============================] - 6s 130us/step - loss: 0.4859 - acc: 0.8342 - val_loss: 1.7793 - val_acc: 0.5023\n",
      "Epoch 19/50\n",
      "50000/50000 [==============================] - 6s 128us/step - loss: 0.4544 - acc: 0.8455 - val_loss: 1.8274 - val_acc: 0.5090\n",
      "Epoch 20/50\n",
      "50000/50000 [==============================] - 7s 130us/step - loss: 0.4246 - acc: 0.8533 - val_loss: 1.8585 - val_acc: 0.5019\n",
      "Epoch 21/50\n",
      "50000/50000 [==============================] - 6s 129us/step - loss: 0.4036 - acc: 0.8615 - val_loss: 1.9176 - val_acc: 0.4967\n",
      "Epoch 22/50\n",
      "50000/50000 [==============================] - 6s 129us/step - loss: 0.3685 - acc: 0.8738 - val_loss: 1.9553 - val_acc: 0.5019\n",
      "Epoch 23/50\n",
      "50000/50000 [==============================] - 7s 131us/step - loss: 0.3530 - acc: 0.8802 - val_loss: 1.9964 - val_acc: 0.4993\n",
      "Epoch 24/50\n",
      "50000/50000 [==============================] - 7s 131us/step - loss: 0.3309 - acc: 0.8863 - val_loss: 1.9861 - val_acc: 0.5071\n",
      "Epoch 25/50\n",
      "50000/50000 [==============================] - 7s 130us/step - loss: 0.3039 - acc: 0.8981 - val_loss: 2.1010 - val_acc: 0.4999\n",
      "Epoch 26/50\n",
      "50000/50000 [==============================] - 7s 130us/step - loss: 0.2926 - acc: 0.9008 - val_loss: 2.0956 - val_acc: 0.5119\n",
      "Epoch 27/50\n",
      "50000/50000 [==============================] - 7s 130us/step - loss: 0.2736 - acc: 0.9072 - val_loss: 2.1299 - val_acc: 0.5062\n",
      "Epoch 28/50\n",
      "50000/50000 [==============================] - 7s 131us/step - loss: 0.2594 - acc: 0.9111 - val_loss: 2.1742 - val_acc: 0.5060\n",
      "Epoch 29/50\n",
      "50000/50000 [==============================] - 7s 131us/step - loss: 0.2444 - acc: 0.9170 - val_loss: 2.1989 - val_acc: 0.5084\n",
      "Epoch 30/50\n",
      "50000/50000 [==============================] - 7s 130us/step - loss: 0.2288 - acc: 0.9223 - val_loss: 2.2188 - val_acc: 0.5051\n",
      "Epoch 31/50\n",
      "50000/50000 [==============================] - 6s 128us/step - loss: 0.2266 - acc: 0.9234 - val_loss: 2.2543 - val_acc: 0.5078\n",
      "Epoch 32/50\n",
      "50000/50000 [==============================] - 6s 129us/step - loss: 0.2112 - acc: 0.9285 - val_loss: 2.3221 - val_acc: 0.4994\n",
      "Epoch 33/50\n",
      "50000/50000 [==============================] - 7s 130us/step - loss: 0.2099 - acc: 0.9280 - val_loss: 2.3364 - val_acc: 0.5056\n",
      "Epoch 34/50\n",
      "50000/50000 [==============================] - 6s 129us/step - loss: 0.1984 - acc: 0.9327 - val_loss: 2.3463 - val_acc: 0.5030\n",
      "Epoch 35/50\n",
      "50000/50000 [==============================] - 7s 130us/step - loss: 0.1877 - acc: 0.9363 - val_loss: 2.3891 - val_acc: 0.5014\n",
      "Epoch 36/50\n",
      "50000/50000 [==============================] - 7s 130us/step - loss: 0.1718 - acc: 0.9417 - val_loss: 2.3757 - val_acc: 0.5103\n",
      "Epoch 37/50\n",
      "50000/50000 [==============================] - 6s 129us/step - loss: 0.1660 - acc: 0.9439 - val_loss: 2.4455 - val_acc: 0.5115\n",
      "Epoch 38/50\n",
      "50000/50000 [==============================] - 7s 130us/step - loss: 0.1666 - acc: 0.9432 - val_loss: 2.4586 - val_acc: 0.5172\n",
      "Epoch 39/50\n",
      "50000/50000 [==============================] - 6s 130us/step - loss: 0.1568 - acc: 0.9471 - val_loss: 2.4832 - val_acc: 0.5068\n",
      "Epoch 40/50\n",
      "50000/50000 [==============================] - 6s 130us/step - loss: 0.1387 - acc: 0.9531 - val_loss: 2.5000 - val_acc: 0.5013\n",
      "Epoch 41/50\n",
      "50000/50000 [==============================] - 6s 128us/step - loss: 0.1342 - acc: 0.9552 - val_loss: 2.5167 - val_acc: 0.5080\n",
      "Epoch 42/50\n",
      "50000/50000 [==============================] - 6s 127us/step - loss: 0.1416 - acc: 0.9520 - val_loss: 2.5813 - val_acc: 0.5100\n",
      "Epoch 43/50\n",
      "50000/50000 [==============================] - 7s 130us/step - loss: 0.1354 - acc: 0.9547 - val_loss: 2.5770 - val_acc: 0.5037\n",
      "Epoch 44/50\n",
      "50000/50000 [==============================] - 6s 130us/step - loss: 0.1277 - acc: 0.9565 - val_loss: 2.6039 - val_acc: 0.5056\n",
      "Epoch 45/50\n",
      "50000/50000 [==============================] - 6s 129us/step - loss: 0.1225 - acc: 0.9591 - val_loss: 2.6369 - val_acc: 0.5030\n"
     ]
    },
    {
     "name": "stdout",
     "output_type": "stream",
     "text": [
      "Epoch 46/50\n",
      "50000/50000 [==============================] - 6s 128us/step - loss: 0.1214 - acc: 0.9590 - val_loss: 2.6421 - val_acc: 0.5031\n",
      "Epoch 47/50\n",
      "50000/50000 [==============================] - 7s 133us/step - loss: 0.1163 - acc: 0.9609 - val_loss: 2.6654 - val_acc: 0.5096\n",
      "Epoch 48/50\n",
      "50000/50000 [==============================] - 6s 128us/step - loss: 0.1132 - acc: 0.9620 - val_loss: 2.6780 - val_acc: 0.5028\n",
      "Epoch 49/50\n",
      "50000/50000 [==============================] - 7s 134us/step - loss: 0.1039 - acc: 0.9661 - val_loss: 2.6925 - val_acc: 0.5116\n",
      "Epoch 50/50\n",
      "50000/50000 [==============================] - 7s 134us/step - loss: 0.0972 - acc: 0.9681 - val_loss: 2.7264 - val_acc: 0.5047\n"
     ]
    }
   ],
   "source": [
    "\"\"\"Code Here\n",
    "撰寫你的訓練流程並將結果用 dictionary 紀錄\n",
    "\"\"\"\n",
    "model = build_mlp(input_shape=x_train.shape[1:])\n",
    "model.summary()\n",
    "optimizer = keras.optimizers.SGD(lr=LEARNING_RATE, nesterov=True, momentum=MOMENTUM)\n",
    "model.compile(loss=\"categorical_crossentropy\", metrics=[\"accuracy\"], optimizer=optimizer)\n",
    "\n",
    "model.fit(x_train, y_train, \n",
    "          epochs=EPOCHS, \n",
    "          batch_size=BATCH_SIZE, \n",
    "          validation_data=(x_test, y_test), \n",
    "          shuffle=True)\n",
    "\n",
    "# Collect results\n",
    "train_loss = model.history.history[\"loss\"]\n",
    "valid_loss = model.history.history[\"val_loss\"]\n",
    "train_acc = model.history.history[\"acc\"]\n",
    "valid_acc = model.history.history[\"val_acc\"]"
   ]
  },
  {
   "cell_type": "code",
   "execution_count": 71,
   "metadata": {},
   "outputs": [
    {
     "data": {
      "image/png": "[encoded data removed]",
      "text/plain": [
       "<Figure size 432x288 with 1 Axes>"
      ]
     },
     "metadata": {
      "needs_background": "light"
     },
     "output_type": "display_data"
    },
    {
     "data": {
      "image/png": "[encoded data removed]",
      "text/plain": [
       "<Figure size 432x288 with 1 Axes>"
      ]
     },
     "metadata": {
      "needs_background": "light"
     },
     "output_type": "display_data"
    }
   ],
   "source": [
    "import matplotlib.pyplot as plt\n",
    "%matplotlib inline\n",
    "\n",
    "plt.plot(range(len(train_loss)), train_loss, label=\"train loss\")\n",
    "plt.plot(range(len(valid_loss)), valid_loss, label=\"valid loss\")\n",
    "plt.legend()\n",
    "plt.title(\"Loss\")\n",
    "plt.show()\n",
    "\n",
    "plt.plot(range(len(train_acc)), train_acc, label=\"train accuracy\")\n",
    "plt.plot(range(len(valid_acc)), valid_acc, label=\"valid accuracy\")\n",
    "plt.legend()\n",
    "plt.title(\"Accuracy\")\n",
    "plt.show()"
   ]
  }
 ],
 "metadata": {
  "kernelspec": {
   "display_name": "Python 3",
   "language": "python",
   "name": "python3"
  },
  "language_info": {
   "codemirror_mode": {
    "name": "ipython",
    "version": 3
   },
   "file_extension": ".py",
   "mimetype": "text/x-python",
   "name": "python",
   "nbconvert_exporter": "python",
   "pygments_lexer": "ipython3",
   "version": "3.7.3"
  }
 },
 "nbformat": 4,
 "nbformat_minor": 2
}
