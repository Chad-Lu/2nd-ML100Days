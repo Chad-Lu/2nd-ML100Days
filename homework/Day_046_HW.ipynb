{
 "cells": [
  {
   "cell_type": "markdown",
   "metadata": {},
   "source": [
    "### 作業\n",
    "目前已經學過許多的模型，相信大家對整體流程應該比較掌握了，這次作業請改用**手寫辨識資料集**，步驟流程都是一樣的，請試著自己撰寫程式碼來完成所有步驟"
   ]
  },
  {
   "cell_type": "code",
   "execution_count": 1,
   "metadata": {},
   "outputs": [],
   "source": [
    "#匯入套件\n",
    "from sklearn import datasets, metrics\n",
    "from sklearn.ensemble import GradientBoostingClassifier\n",
    "from sklearn.model_selection import train_test_split"
   ]
  },
  {
   "cell_type": "code",
   "execution_count": 2,
   "metadata": {},
   "outputs": [
    {
     "name": "stdout",
     "output_type": "stream",
     "text": [
      "      Iter       Train Loss   Remaining Time \n",
      "         1         651.5524            0.87s\n",
      "         2         558.8488            0.86s\n",
      "         3         489.1149            0.85s\n",
      "         4         435.7615            0.85s\n",
      "         5         389.5957            0.81s\n",
      "         6         350.0960            0.80s\n",
      "         7         315.0032            0.80s\n",
      "         8         285.7705            0.80s\n",
      "         9         260.1149            0.78s\n",
      "        10         237.7076            0.77s\n",
      "        20         105.8530            0.66s\n",
      "        30          54.0893            0.61s\n",
      "        40          30.0552            0.53s\n",
      "        50          17.1367            0.45s\n",
      "        60           9.5892            0.37s\n",
      "        70           5.4785            0.30s\n",
      "        80           3.3308            0.22s\n",
      "        90           1.9787            0.14s\n",
      "       100           1.2087            0.07s\n"
     ]
    }
   ],
   "source": [
    "#載入資料\n",
    "digits = datasets.load_digits()\n",
    "#切分資料\n",
    "x_train, x_test, y_train, y_test = train_test_split(digits.data, digits.target, train_size=0.2, random_state=4)\n",
    "#載入模型\n",
    "clf = GradientBoostingClassifier(learning_rate=0.1,n_estimators=110,max_depth=2,verbose=1)\n",
    "#訓練資料\n",
    "clf.fit(x_train, y_train)\n",
    "#預測\n",
    "pred = clf.predict(x_test)"
   ]
  },
  {
   "cell_type": "code",
   "execution_count": 3,
   "metadata": {},
   "outputs": [
    {
     "name": "stdout",
     "output_type": "stream",
     "text": [
      "[0 1 2 3 4 5 6 7 8 9]\n"
     ]
    }
   ],
   "source": [
    "print(digits.target_names)"
   ]
  },
  {
   "cell_type": "code",
   "execution_count": 4,
   "metadata": {},
   "outputs": [
    {
     "name": "stdout",
     "output_type": "stream",
     "text": [
      "Accuracy :0.9186369958275382\n",
      "F1_score :[0.96167247 0.86486486 0.94661922 0.95532646 0.90322581 0.93793103\n",
      " 0.97368421 0.91756272 0.86428571 0.85813149]\n"
     ]
    }
   ],
   "source": [
    "print(\"Accuracy :{}\".format(metrics.accuracy_score(y_test,pred)))\n",
    "print(\"F1_score :{}\".format(metrics.f1_score(y_test,pred,average=None)))"
   ]
  },
  {
   "cell_type": "code",
   "execution_count": 5,
   "metadata": {},
   "outputs": [
    {
     "data": {
      "text/plain": [
       "<Figure size 640x480 with 0 Axes>"
      ]
     },
     "metadata": {},
     "output_type": "display_data"
    },
    {
     "data": {
      "text/plain": [
       "<Figure size 480x480 with 1 Axes>"
      ]
     },
     "metadata": {},
     "output_type": "display_data"
    }
   ],
   "source": [
    "import matplotlib.pyplot as plt \n",
    "plt.gray() \n",
    "plt.matshow(digits.images[0]) #印出零\n",
    "plt.show() "
   ]
  },
  {
   "cell_type": "code",
   "execution_count": 7,
   "metadata": {},
   "outputs": [
    {
     "name": "stdout",
     "output_type": "stream",
     "text": [
      "confusion_matrix :\n",
      " [[138   0   0   0   1   0   0   0   6   1]\n",
      " [  0 128   8   2   1   1   0   0   0   0]\n",
      " [  0   1 133   2   1   0   0   1   2   0]\n",
      " [  0   1   0 139   0   4   0   1   0   1]\n",
      " [  3   5   0   0 126   2   1   5   2   4]\n",
      " [  0   0   0   0   0 136   1   1   2   6]\n",
      " [  0   2   0   0   0   0 148   0   4   0]\n",
      " [  0   1   0   0   2   0   0 128   1   2]\n",
      " [  0   8   0   1   0   1   0   2 121   6]\n",
      " [  0  10   0   1   0   0   0   7   3 124]]\n"
     ]
    }
   ],
   "source": [
    "#使用混淆矩陣\n",
    "print(\"confusion_matrix :\\n\",metrics.confusion_matrix(y_test,pred))"
   ]
  }
 ],
 "metadata": {
  "kernelspec": {
   "display_name": "Python 3",
   "language": "python",
   "name": "python3"
  },
  "language_info": {
   "codemirror_mode": {
    "name": "ipython",
    "version": 3
   },
   "file_extension": ".py",
   "mimetype": "text/x-python",
   "name": "python",
   "nbconvert_exporter": "python",
   "pygments_lexer": "ipython3",
   "version": "3.7.1"
  }
 },
 "nbformat": 4,
 "nbformat_minor": 2
}
