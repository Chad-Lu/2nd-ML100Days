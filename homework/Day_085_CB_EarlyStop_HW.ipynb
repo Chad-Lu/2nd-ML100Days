{
 "cells": [
  {
   "cell_type": "markdown",
   "metadata": {},
   "source": [
    "## Work\n",
    "1. 試改變 monitor \"Validation Accuracy\" 並比較結果\n",
    "2. 調整 earlystop 的等待次數至 10, 25 並比較結果"
   ]
  },
  {
   "cell_type": "code",
   "execution_count": 20,
   "metadata": {},
   "outputs": [],
   "source": [
    "import os\n",
    "import keras\n",
    "import matplotlib.pyplot as plt\n",
    "%matplotlib inline\n",
    "\n",
    "\n",
    "# Disable GPU\n",
    "os.environ[\"CUDA_VISIBLE_DEVICES\"] = \"0\""
   ]
  },
  {
   "cell_type": "code",
   "execution_count": 21,
   "metadata": {},
   "outputs": [],
   "source": [
    "train, test = keras.datasets.cifar10.load_data()"
   ]
  },
  {
   "cell_type": "code",
   "execution_count": 22,
   "metadata": {},
   "outputs": [],
   "source": [
    "## 資料前處理\n",
    "def preproc_x(x, flatten=True):\n",
    "    x = x / 255.\n",
    "    if flatten:\n",
    "        x = x.reshape((len(x), -1))\n",
    "    return x\n",
    "\n",
    "def preproc_y(y, num_classes=10):\n",
    "    if y.shape[-1] == 1:\n",
    "        y = keras.utils.to_categorical(y, num_classes)\n",
    "    return y    "
   ]
  },
  {
   "cell_type": "code",
   "execution_count": 23,
   "metadata": {},
   "outputs": [],
   "source": [
    "x_train, y_train = train\n",
    "x_test, y_test = test\n",
    "\n",
    "# Preproc the inputs\n",
    "x_train = preproc_x(x_train)\n",
    "x_test = preproc_x(x_test)\n",
    "\n",
    "# Preprc the outputs\n",
    "y_train = preproc_y(y_train)\n",
    "y_test = preproc_y(y_test)"
   ]
  },
  {
   "cell_type": "code",
   "execution_count": 24,
   "metadata": {},
   "outputs": [],
   "source": [
    "from keras.layers import BatchNormalization\n",
    "\n",
    "\"\"\"\n",
    "建立神經網路，並加入 BN layer\n",
    "\"\"\"\n",
    "def build_mlp(input_shape, output_units=10, num_neurons=[512, 256, 128]):\n",
    "    input_layer = keras.layers.Input(input_shape)\n",
    "    \n",
    "    for i, n_units in enumerate(num_neurons):\n",
    "        if i == 0:\n",
    "            x = keras.layers.Dense(units=n_units, \n",
    "                                   activation=\"relu\", \n",
    "                                   name=\"hidden_layer\"+str(i+1))(input_layer)\n",
    "            x = BatchNormalization()(x)\n",
    "        else:\n",
    "            x = keras.layers.Dense(units=n_units, \n",
    "                                   activation=\"relu\", \n",
    "                                   name=\"hidden_layer\"+str(i+1))(x)\n",
    "            x = BatchNormalization()(x)\n",
    "    \n",
    "    out = keras.layers.Dense(units=output_units, activation=\"softmax\", name=\"output\")(x)\n",
    "    \n",
    "    model = keras.models.Model(inputs=[input_layer], outputs=[out])\n",
    "    return model"
   ]
  },
  {
   "cell_type": "code",
   "execution_count": 25,
   "metadata": {},
   "outputs": [],
   "source": [
    "\"\"\"Code Here\n",
    "設定超參數\n",
    "\"\"\"\n",
    "## 超參數設定\n",
    "LEARNING_RATE = 1e-3\n",
    "EPOCHS = 50\n",
    "BATCH_SIZE = 512\n",
    "MOMENTUM = 0.95"
   ]
  },
  {
   "cell_type": "code",
   "execution_count": 26,
   "metadata": {},
   "outputs": [],
   "source": [
    "#reference: \n",
    "# 載入 Callbacks\n",
    "\"\"\"\n",
    "# 載入 Callbacks, 並將 monitor 設定為監控 validation loss\n",
    "\"\"\"\n",
    "from keras.callbacks import EarlyStopping\n",
    "\n",
    "earlystop = EarlyStopping(monitor=\"val_acc\", \n",
    "                          patience=25, \n",
    "                          verbose=1,\n",
    "                          mode=\"max\"\n",
    "                          )"
   ]
  },
  {
   "cell_type": "code",
   "execution_count": 27,
   "metadata": {
    "scrolled": true
   },
   "outputs": [
    {
     "name": "stdout",
     "output_type": "stream",
     "text": [
      "_________________________________________________________________\n",
      "Layer (type)                 Output Shape              Param #   \n",
      "=================================================================\n",
      "input_3 (InputLayer)         (None, 3072)              0         \n",
      "_________________________________________________________________\n",
      "hidden_layer1 (Dense)        (None, 512)               1573376   \n",
      "_________________________________________________________________\n",
      "batch_normalization_7 (Batch (None, 512)               2048      \n",
      "_________________________________________________________________\n",
      "hidden_layer2 (Dense)        (None, 256)               131328    \n",
      "_________________________________________________________________\n",
      "batch_normalization_8 (Batch (None, 256)               1024      \n",
      "_________________________________________________________________\n",
      "hidden_layer3 (Dense)        (None, 128)               32896     \n",
      "_________________________________________________________________\n",
      "batch_normalization_9 (Batch (None, 128)               512       \n",
      "_________________________________________________________________\n",
      "output (Dense)               (None, 10)                1290      \n",
      "=================================================================\n",
      "Total params: 1,742,474\n",
      "Trainable params: 1,740,682\n",
      "Non-trainable params: 1,792\n",
      "_________________________________________________________________\n",
      "Train on 50000 samples, validate on 10000 samples\n",
      "Epoch 1/50\n",
      "50000/50000 [==============================] - 4s 80us/step - loss: 2.0144 - acc: 0.3224 - val_loss: 1.9846 - val_acc: 0.3381\n",
      "Epoch 2/50\n",
      "50000/50000 [==============================] - 3s 52us/step - loss: 1.6206 - acc: 0.4330 - val_loss: 1.7254 - val_acc: 0.4076\n",
      "Epoch 3/50\n",
      "50000/50000 [==============================] - 2s 47us/step - loss: 1.5091 - acc: 0.4722 - val_loss: 1.6075 - val_acc: 0.4349\n",
      "Epoch 4/50\n",
      "50000/50000 [==============================] - 2s 46us/step - loss: 1.4378 - acc: 0.4964 - val_loss: 1.5396 - val_acc: 0.4600\n",
      "Epoch 5/50\n",
      "50000/50000 [==============================] - 2s 46us/step - loss: 1.3780 - acc: 0.5167 - val_loss: 1.5346 - val_acc: 0.4613\n",
      "Epoch 6/50\n",
      "50000/50000 [==============================] - 2s 47us/step - loss: 1.3297 - acc: 0.5359 - val_loss: 1.5070 - val_acc: 0.4659\n",
      "Epoch 7/50\n",
      "50000/50000 [==============================] - 2s 47us/step - loss: 1.2872 - acc: 0.5510 - val_loss: 1.4944 - val_acc: 0.4726\n",
      "Epoch 8/50\n",
      "50000/50000 [==============================] - 3s 50us/step - loss: 1.2485 - acc: 0.5651 - val_loss: 1.4945 - val_acc: 0.4745\n",
      "Epoch 9/50\n",
      "50000/50000 [==============================] - 2s 49us/step - loss: 1.2074 - acc: 0.5790 - val_loss: 1.4698 - val_acc: 0.48372075 - acc: 0.\n",
      "Epoch 10/50\n",
      "50000/50000 [==============================] - 2s 48us/step - loss: 1.1742 - acc: 0.5934 - val_loss: 1.4680 - val_acc: 0.4897\n",
      "Epoch 11/50\n",
      "50000/50000 [==============================] - 2s 49us/step - loss: 1.1373 - acc: 0.6062 - val_loss: 1.5081 - val_acc: 0.4776\n",
      "Epoch 12/50\n",
      "50000/50000 [==============================] - 2s 47us/step - loss: 1.1048 - acc: 0.6181 - val_loss: 1.4813 - val_acc: 0.4884\n",
      "Epoch 13/50\n",
      "50000/50000 [==============================] - 2s 48us/step - loss: 1.0730 - acc: 0.6294 - val_loss: 1.4624 - val_acc: 0.4889\n",
      "Epoch 14/50\n",
      "50000/50000 [==============================] - 2s 49us/step - loss: 1.0423 - acc: 0.6426 - val_loss: 1.4479 - val_acc: 0.5003\n",
      "Epoch 15/50\n",
      "50000/50000 [==============================] - 2s 49us/step - loss: 1.0113 - acc: 0.6544 - val_loss: 1.4684 - val_acc: 0.4902\n",
      "Epoch 16/50\n",
      "50000/50000 [==============================] - 2s 47us/step - loss: 0.9790 - acc: 0.6665 - val_loss: 1.4707 - val_acc: 0.4927\n",
      "Epoch 17/50\n",
      "50000/50000 [==============================] - 2s 47us/step - loss: 0.9499 - acc: 0.6755 - val_loss: 1.4582 - val_acc: 0.4986 - loss: 0.9\n",
      "Epoch 18/50\n",
      "50000/50000 [==============================] - 2s 47us/step - loss: 0.9217 - acc: 0.6876 - val_loss: 1.4993 - val_acc: 0.4915\n",
      "Epoch 19/50\n",
      "50000/50000 [==============================] - 2s 47us/step - loss: 0.8922 - acc: 0.6993 - val_loss: 1.4742 - val_acc: 0.4980: 0s - loss: 0.8912 - \n",
      "Epoch 20/50\n",
      "50000/50000 [==============================] - 2s 47us/step - loss: 0.8651 - acc: 0.7092 - val_loss: 1.5225 - val_acc: 0.4849\n",
      "Epoch 21/50\n",
      "50000/50000 [==============================] - 2s 46us/step - loss: 0.8363 - acc: 0.7212 - val_loss: 1.5405 - val_acc: 0.4918\n",
      "Epoch 22/50\n",
      "50000/50000 [==============================] - 3s 51us/step - loss: 0.8096 - acc: 0.7297 - val_loss: 1.5216 - val_acc: 0.4936\n",
      "Epoch 23/50\n",
      "50000/50000 [==============================] - 3s 53us/step - loss: 0.7807 - acc: 0.7424 - val_loss: 1.5196 - val_acc: 0.4986\n",
      "Epoch 24/50\n",
      "50000/50000 [==============================] - 3s 50us/step - loss: 0.7571 - acc: 0.7500 - val_loss: 1.5190 - val_acc: 0.5030\n",
      "Epoch 25/50\n",
      "50000/50000 [==============================] - 3s 51us/step - loss: 0.7308 - acc: 0.7604 - val_loss: 1.5433 - val_acc: 0.4939\n",
      "Epoch 26/50\n",
      "50000/50000 [==============================] - 3s 59us/step - loss: 0.7047 - acc: 0.7698 - val_loss: 1.5619 - val_acc: 0.4932\n",
      "Epoch 27/50\n",
      "50000/50000 [==============================] - 3s 51us/step - loss: 0.6775 - acc: 0.7812 - val_loss: 1.5657 - val_acc: 0.5015\n",
      "Epoch 28/50\n",
      "50000/50000 [==============================] - 2s 49us/step - loss: 0.6540 - acc: 0.7893 - val_loss: 1.6108 - val_acc: 0.4983\n",
      "Epoch 29/50\n",
      "50000/50000 [==============================] - 2s 50us/step - loss: 0.6257 - acc: 0.8015 - val_loss: 1.5886 - val_acc: 0.4962\n",
      "Epoch 30/50\n",
      "50000/50000 [==============================] - 2s 49us/step - loss: 0.6030 - acc: 0.8083 - val_loss: 1.6344 - val_acc: 0.4922\n",
      "Epoch 31/50\n",
      "50000/50000 [==============================] - 2s 49us/step - loss: 0.5805 - acc: 0.8186 - val_loss: 1.6691 - val_acc: 0.4897\n",
      "Epoch 32/50\n",
      "50000/50000 [==============================] - 3s 50us/step - loss: 0.5539 - acc: 0.8310 - val_loss: 1.6622 - val_acc: 0.4968\n",
      "Epoch 33/50\n",
      "50000/50000 [==============================] - 3s 52us/step - loss: 0.5307 - acc: 0.8385 - val_loss: 1.6805 - val_acc: 0.4910\n",
      "Epoch 34/50\n",
      "50000/50000 [==============================] - 2s 47us/step - loss: 0.5071 - acc: 0.8451 - val_loss: 1.6856 - val_acc: 0.4876\n",
      "Epoch 35/50\n",
      "50000/50000 [==============================] - 2s 47us/step - loss: 0.4831 - acc: 0.8574 - val_loss: 1.7403 - val_acc: 0.4833\n",
      "Epoch 36/50\n",
      "50000/50000 [==============================] - 2s 47us/step - loss: 0.4640 - acc: 0.8633 - val_loss: 1.7527 - val_acc: 0.4861\n",
      "Epoch 37/50\n",
      "50000/50000 [==============================] - 2s 48us/step - loss: 0.4407 - acc: 0.8715 - val_loss: 1.8010 - val_acc: 0.4854\n",
      "Epoch 38/50\n",
      "50000/50000 [==============================] - 2s 48us/step - loss: 0.4176 - acc: 0.8823 - val_loss: 1.7815 - val_acc: 0.4871\n",
      "Epoch 39/50\n",
      "50000/50000 [==============================] - 2s 47us/step - loss: 0.3979 - acc: 0.8896 - val_loss: 1.8044 - val_acc: 0.4908\n",
      "Epoch 40/50\n",
      "50000/50000 [==============================] - 2s 46us/step - loss: 0.3815 - acc: 0.8935 - val_loss: 1.8955 - val_acc: 0.4732\n",
      "Epoch 41/50\n",
      "50000/50000 [==============================] - 2s 46us/step - loss: 0.3628 - acc: 0.9005 - val_loss: 1.9043 - val_acc: 0.4923\n",
      "Epoch 42/50\n",
      "50000/50000 [==============================] - 2s 47us/step - loss: 0.3415 - acc: 0.9088 - val_loss: 1.8816 - val_acc: 0.4906\n",
      "Epoch 43/50\n",
      "50000/50000 [==============================] - 2s 47us/step - loss: 0.3257 - acc: 0.9163 - val_loss: 1.8792 - val_acc: 0.4773\n",
      "Epoch 44/50\n",
      "50000/50000 [==============================] - 2s 47us/step - loss: 0.3091 - acc: 0.9212 - val_loss: 1.9261 - val_acc: 0.4891\n",
      "Epoch 45/50\n",
      "50000/50000 [==============================] - 2s 47us/step - loss: 0.2923 - acc: 0.9276 - val_loss: 1.9831 - val_acc: 0.4834\n",
      "Epoch 46/50\n",
      "50000/50000 [==============================] - 2s 46us/step - loss: 0.2754 - acc: 0.9334 - val_loss: 1.9554 - val_acc: 0.4913\n",
      "Epoch 47/50\n",
      "50000/50000 [==============================] - 3s 51us/step - loss: 0.2580 - acc: 0.9396 - val_loss: 2.0348 - val_acc: 0.4793\n",
      "Epoch 48/50\n",
      "50000/50000 [==============================] - 3s 53us/step - loss: 0.2414 - acc: 0.9460 - val_loss: 2.0318 - val_acc: 0.4773\n",
      "Epoch 49/50\n"
     ]
    },
    {
     "name": "stdout",
     "output_type": "stream",
     "text": [
      "50000/50000 [==============================] - 3s 55us/step - loss: 0.2278 - acc: 0.9498 - val_loss: 2.0767 - val_acc: 0.4773\n",
      "Epoch 00049: early stopping\n"
     ]
    }
   ],
   "source": [
    "\"\"\"Code Here\n",
    "撰寫你的訓練流程並將結果用 dictionary 紀錄\n",
    "\"\"\"\n",
    "model = build_mlp(input_shape=x_train.shape[1:])\n",
    "model.summary()\n",
    "optimizer = keras.optimizers.SGD(lr=LEARNING_RATE, nesterov=True, momentum=MOMENTUM)\n",
    "model.compile(loss=\"categorical_crossentropy\", metrics=[\"accuracy\"], optimizer=optimizer)\n",
    "\n",
    "model.fit(x_train, y_train, \n",
    "          epochs=EPOCHS, \n",
    "          batch_size=BATCH_SIZE, \n",
    "          validation_data=(x_test, y_test), \n",
    "          shuffle=True,\n",
    "          callbacks=[earlystop]\n",
    "         )\n",
    "\n",
    "# Collect results\n",
    "train_loss = model.history.history[\"loss\"]\n",
    "valid_loss = model.history.history[\"val_loss\"]\n",
    "train_acc = model.history.history[\"acc\"]\n",
    "valid_acc = model.history.history[\"val_acc\"]"
   ]
  },
  {
   "cell_type": "code",
   "execution_count": 28,
   "metadata": {},
   "outputs": [
    {
     "data": {
      "image/png": "[encoded data removed]",
      "text/plain": [
       "<Figure size 432x288 with 1 Axes>"
      ]
     },
     "metadata": {
      "needs_background": "light"
     },
     "output_type": "display_data"
    },
    {
     "data": {
      "image/png": "[encoded data removed]",
      "text/plain": [
       "<Figure size 432x288 with 1 Axes>"
      ]
     },
     "metadata": {
      "needs_background": "light"
     },
     "output_type": "display_data"
    }
   ],
   "source": [
    "import matplotlib.pyplot as plt\n",
    "%matplotlib inline\n",
    "\"\"\"Code Here\n",
    "將結果繪出\n",
    "\"\"\"\n",
    "plt.plot(range(len(train_loss)), train_loss, label=\"train loss\")\n",
    "plt.plot(range(len(valid_loss)), valid_loss, label=\"valid loss\")\n",
    "plt.legend()\n",
    "plt.title(\"Loss\")\n",
    "plt.show()\n",
    "\n",
    "plt.plot(range(len(train_acc)), train_acc, label=\"train accuracy\")\n",
    "plt.plot(range(len(valid_acc)), valid_acc, label=\"valid accuracy\")\n",
    "plt.legend()\n",
    "plt.title(\"Accuracy\")\n",
    "plt.show()"
   ]
  }
 ],
 "metadata": {
  "kernelspec": {
   "display_name": "Python 3",
   "language": "python",
   "name": "python3"
  },
  "language_info": {
   "codemirror_mode": {
    "name": "ipython",
    "version": 3
   },
   "file_extension": ".py",
   "mimetype": "text/x-python",
   "name": "python",
   "nbconvert_exporter": "python",
   "pygments_lexer": "ipython3",
   "version": "3.7.3"
  }
 },
 "nbformat": 4,
 "nbformat_minor": 2
}
