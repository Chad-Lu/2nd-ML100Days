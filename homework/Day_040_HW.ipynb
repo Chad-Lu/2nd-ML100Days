{
 "cells": [
  {
   "cell_type": "markdown",
   "metadata": {},
   "source": [
    "## [作業重點]\n",
    "使用 Sklearn 中的 Lasso, Ridge 模型，來訓練各種資料集，務必了解送進去模型訓練的**資料型態**為何，也請了解模型中各項參數的意義。\n",
    "\n",
    "機器學習的模型非常多種，但要訓練的資料多半有固定的格式，確保你了解訓練資料的格式為何，這樣在應用新模型時，就能夠最快的上手開始訓練！"
   ]
  },
  {
   "cell_type": "markdown",
   "metadata": {},
   "source": [
    "## 練習時間\n",
    "試著使用 sklearn datasets 的其他資料集 (boston, ...)，來訓練自己的線性迴歸模型，並加上適當的正則話來觀察訓練情形。"
   ]
  },
  {
   "cell_type": "code",
   "execution_count": 95,
   "metadata": {},
   "outputs": [],
   "source": [
    "import numpy as np\n",
    "import matplotlib.pyplot as plt\n",
    "from sklearn import datasets, linear_model\n",
    "from sklearn.model_selection import train_test_split\n",
    "from sklearn.metrics import mean_squared_error, r2_score, mean_absolute_error"
   ]
  },
  {
   "cell_type": "markdown",
   "metadata": {},
   "source": [
    "## Line Regression 模型"
   ]
  },
  {
   "cell_type": "code",
   "execution_count": 96,
   "metadata": {},
   "outputs": [
    {
     "name": "stdout",
     "output_type": "stream",
     "text": [
      "type of boston <class 'sklearn.utils.Bunch'>\n",
      "data of boston: (506, 13)\n",
      "target of boston: (506,)\n"
     ]
    }
   ],
   "source": [
    "#讀取波士頓房價資料集\n",
    "boston = datasets.load_boston()\n",
    "print(\"type of boston\",type(boston))\n",
    "print(\"data of boston:\",boston.data.shape)\n",
    "print(\"target of boston:\",boston.target.shape)"
   ]
  },
  {
   "cell_type": "code",
   "execution_count": 97,
   "metadata": {},
   "outputs": [],
   "source": [
    "#切分資料\n",
    "x_train, x_test, y_train, y_test = train_test_split(boston.data, boston.target, test_size=0.2, random_state=4)\n",
    "#載入Line Regression模型\n",
    "reg = linear_model.LinearRegression()\n",
    "#帶入訓練\n",
    "reg.fit(x_train, y_train)\n",
    "#預測結果\n",
    "pred = reg.predict(x_test)"
   ]
  },
  {
   "cell_type": "code",
   "execution_count": 98,
   "metadata": {},
   "outputs": [
    {
     "data": {
      "text/plain": [
       "array([-1.15966452e-01,  4.71249231e-02,  8.25980146e-03,  3.23404531e+00,\n",
       "       -1.66865890e+01,  3.88410651e+00, -1.08974442e-02, -1.54129540e+00,\n",
       "        2.93208309e-01, -1.34059383e-02, -9.06296429e-01,  8.80823439e-03,\n",
       "       -4.57723846e-01])"
      ]
     },
     "execution_count": 98,
     "metadata": {},
     "output_type": "execute_result"
    }
   ],
   "source": [
    "reg.coef_"
   ]
  },
  {
   "cell_type": "code",
   "execution_count": 99,
   "metadata": {},
   "outputs": [
    {
     "name": "stdout",
     "output_type": "stream",
     "text": [
      "(LinearRegression)mean squared error: 25.41958712682191\n",
      "(LinearRegression)mean absolute error 3.3677909837965796\n"
     ]
    }
   ],
   "source": [
    "print('(LinearRegression)mean squared error: {}'.format(mean_squared_error(y_test, pred)))\n",
    "print('(LinearRegression)mean absolute error {}'.format(mean_absolute_error(y_test, pred)))"
   ]
  },
  {
   "cell_type": "markdown",
   "metadata": {},
   "source": [
    "## LASSO Regression 模型"
   ]
  },
  {
   "cell_type": "code",
   "execution_count": 100,
   "metadata": {},
   "outputs": [],
   "source": [
    "#切分資料\n",
    "x_train, x_test, y_train, y_test = train_test_split(boston.data, boston.target, test_size=0.2, random_state=4)\n",
    "#載入Lasso Regression模型\n",
    "lassoreg = linear_model.Lasso(alpha=1.0)\n",
    "#帶入訓練\n",
    "lassoreg.fit(x_train, y_train)\n",
    "#預測結果\n",
    "pred = lassoreg.predict(x_test)"
   ]
  },
  {
   "cell_type": "code",
   "execution_count": 101,
   "metadata": {},
   "outputs": [
    {
     "data": {
      "text/plain": [
       "array([-0.06494981,  0.04581458, -0.        ,  0.        , -0.        ,\n",
       "        1.18140024,  0.01109101, -0.73695809,  0.23350042, -0.01551065,\n",
       "       -0.69270805,  0.00763157, -0.6927848 ])"
      ]
     },
     "execution_count": 101,
     "metadata": {},
     "output_type": "execute_result"
    }
   ],
   "source": [
    "lassoreg.coef_"
   ]
  },
  {
   "cell_type": "code",
   "execution_count": 102,
   "metadata": {},
   "outputs": [
    {
     "name": "stdout",
     "output_type": "stream",
     "text": [
      "(Lasso)mean squared error: 28.95051203673903\n",
      "(Lasso)mean absolute error 3.5566741401860695\n"
     ]
    }
   ],
   "source": [
    "print('(Lasso)mean squared error: {}'.format(mean_squared_error(y_test,pred)))\n",
    "print('(Lasso)mean absolute error {}'.format(mean_absolute_error(y_test, pred)))"
   ]
  },
  {
   "cell_type": "markdown",
   "metadata": {},
   "source": [
    "## Ridge Regression 模型"
   ]
  },
  {
   "cell_type": "code",
   "execution_count": 103,
   "metadata": {},
   "outputs": [],
   "source": [
    "#切分資料\n",
    "x_train, x_test, y_train, y_test = train_test_split(boston.data, boston.target, test_size=0.2, random_state=4)\n",
    "#載入Ridge Regression模型\n",
    "ridgereg = linear_model.Ridge(alpha=1.0)\n",
    "#帶入訓練\n",
    "ridgereg.fit(x_train, y_train)\n",
    "#預測結果\n",
    "pred = ridgereg.predict(x_test)"
   ]
  },
  {
   "cell_type": "code",
   "execution_count": 104,
   "metadata": {},
   "outputs": [
    {
     "data": {
      "text/plain": [
       "array([-1.12499445e-01,  4.79562332e-02, -2.40438147e-02,  2.96199458e+00,\n",
       "       -9.33966118e+00,  3.93079015e+00, -1.73821202e-02, -1.43347691e+00,\n",
       "        2.75239392e-01, -1.38920708e-02, -8.31116943e-01,  9.15637729e-03,\n",
       "       -4.66460539e-01])"
      ]
     },
     "execution_count": 104,
     "metadata": {},
     "output_type": "execute_result"
    }
   ],
   "source": [
    "ridgereg.coef_"
   ]
  },
  {
   "cell_type": "code",
   "execution_count": 105,
   "metadata": {},
   "outputs": [
    {
     "name": "stdout",
     "output_type": "stream",
     "text": [
      "(Ridge)mean squared error: 25.743684080012603\n",
      "(Ridge)mean absolute error 3.34386836162158\n"
     ]
    }
   ],
   "source": [
    "print('(Ridge)mean squared error: {}'.format(mean_squared_error(y_test,pred)))\n",
    "print('(Ridge)mean absolute error {}'.format(mean_absolute_error(y_test, pred)))"
   ]
  }
 ],
 "metadata": {
  "kernelspec": {
   "display_name": "Python 3",
   "language": "python",
   "name": "python3"
  },
  "language_info": {
   "codemirror_mode": {
    "name": "ipython",
    "version": 3
   },
   "file_extension": ".py",
   "mimetype": "text/x-python",
   "name": "python",
   "nbconvert_exporter": "python",
   "pygments_lexer": "ipython3",
   "version": "3.7.1"
  }
 },
 "nbformat": 4,
 "nbformat_minor": 2
}
