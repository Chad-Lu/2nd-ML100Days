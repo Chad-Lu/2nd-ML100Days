{
 "cells": [
  {
   "cell_type": "markdown",
   "metadata": {},
   "source": [
    "# 作業目標:\n",
    "\n",
    "    通過建立多層的神經網路, 了解權值矩陣更新"
   ]
  },
  {
   "cell_type": "markdown",
   "metadata": {},
   "source": [
    "# 作業重點: \n",
    "\n",
    "3  層神經網路\n",
    "\n",
    "通過增加更多的中間層，以對更多關係的組合進行建模\n",
    "\n",
    "syn1 權值矩陣將隱層的組合輸出映射到最終結果，\n",
    "\n",
    "而在更新 syn1 的同時，還需要更新 syn0 權值矩陣，\n",
    "\n",
    "以從輸入資料中更好地產生這些組合"
   ]
  },
  {
   "cell_type": "code",
   "execution_count": 19,
   "metadata": {},
   "outputs": [],
   "source": [
    "import numpy as np\n",
    " \n",
    "# Sigmoid 函數可以將任何值都映射到一個位於 0 到  1 範圍內的值。通過它，我們可以將實數轉化為概率值\n",
    "def nonlin(x,deriv=False):\n",
    "    if(deriv==True):\n",
    "        return x*(1-x)\n",
    "    return 1/(1+np.exp(-x))\n",
    "\n",
    "X = np.array([  [0,0,1],\n",
    "                [0,1,1],\n",
    "                [1,0,1],\n",
    "                [1,1,1] ])  \n",
    "        \n",
    "# define y for output dataset            \n",
    "y = np.array([[0,0,1,1]]).T"
   ]
  },
  {
   "cell_type": "code",
   "execution_count": 20,
   "metadata": {},
   "outputs": [],
   "source": [
    "# seed random numbers to make calculation\n",
    "# deterministic (just a good practice)\n",
    "np.random.seed(1)\n",
    "#亂數設定產生種子得到的權重初始化集仍是隨機分佈的，\n",
    "#但每次開始訓練時，得到的權重初始集分佈都是完全一致的。\n",
    " \n",
    "# initialize weights randomly with mean 0\n",
    "syn0 = 2*np.random.random((3,4)) - 1\n",
    "# define syn1\n",
    "syn1 = 2*np.random.random((4,1)) - 1\n",
    "\n",
    "iter = 0\n",
    "#該神經網路權重矩陣的初始化操作。\n",
    "#用 “syn0” 來代指 (即“輸入層-第一層隱層”間權重矩陣）\n",
    "#用 “syn1” 來代指 (即“輸入層-第二層隱層”間權重矩陣）\n",
    "\n",
    "syn1_history = [syn1]"
   ]
  },
  {
   "cell_type": "markdown",
   "metadata": {},
   "source": [
    "神經網路訓練\n",
    "for 迴圈反覆運算式地多次執行訓練代碼，使得我們的網路能更好地擬合訓練集"
   ]
  },
  {
   "cell_type": "code",
   "execution_count": 21,
   "metadata": {},
   "outputs": [
    {
     "name": "stdout",
     "output_type": "stream",
     "text": [
      "Output After Training:\n",
      "[[3.93955488e-07]\n",
      " [4.42304365e-07]\n",
      " [3.74536837e-07]\n",
      " [3.90781973e-07]]\n",
      "\n",
      "\n",
      "\n",
      "[[3.93955488e-07]\n",
      " [4.42304365e-07]\n",
      " [3.74536837e-07]\n",
      " [3.90781973e-07]]\n"
     ]
    }
   ],
   "source": [
    "for iter in range(10000):\n",
    "    # forward propagation\n",
    "    l0 = X\n",
    "    l1 = nonlin(np.dot(l0,syn0))\n",
    "    l2 = nonlin(np.dot(l1,syn1))\n",
    "    '''\n",
    "    新增\n",
    "    l2_error 該值說明了神經網路預測時“丟失”的數目。\n",
    "    l2_delta 該值為經確信度加權後的神經網路的誤差，除了確信誤差很小時，它近似等於預測誤差。\n",
    "    '''\n",
    "    l2_error = y-12\n",
    "    l2_delta = l2_error*nonlin(l2,True)\n",
    "    \n",
    " \n",
    "    # how much did we miss?\n",
    "    l1_error = l2_delta.dot(syn1.T)\n",
    " \n",
    "    # multiply how much we missed by the \n",
    "    # slope of the sigmoid at the values in l1\n",
    "    l1_delta = l1_error * nonlin(l1,True)\n",
    "    \n",
    "    # update weights\n",
    "    syn0 += np.dot(l0.T,l1_delta)\n",
    "     # syn1 update weights\n",
    "    syn1 += np.dot(l1.T,l2_delta)\n",
    "print(\"Output After Training:\")\n",
    "print(l2)\n",
    "print(\"\\n\\n\")\n",
    "print(l2)"
   ]
  },
  {
   "cell_type": "code",
   "execution_count": 23,
   "metadata": {},
   "outputs": [
    {
     "data": {
      "image/png": "[encoded data removed]",
      "text/plain": [
       "<Figure size 432x288 with 1 Axes>"
      ]
     },
     "metadata": {
      "needs_background": "light"
     },
     "output_type": "display_data"
    }
   ],
   "source": [
    "import matplotlib.pyplot as plt\n",
    "%matplotlib inline \n",
    "#適用於 Jupyter Notebook, 宣告直接在cell 內印出執行結果\n",
    "\n",
    "plt.plot(syn1_history[0], ms=3, lw=1.5, color='r')\n",
    "plt.xlabel(r'$L1$', fontsize=16)\n",
    "plt.show()"
   ]
  }
 ],
 "metadata": {
  "kernelspec": {
   "display_name": "Python 3",
   "language": "python",
   "name": "python3"
  },
  "language_info": {
   "codemirror_mode": {
    "name": "ipython",
    "version": 3
   },
   "file_extension": ".py",
   "mimetype": "text/x-python",
   "name": "python",
   "nbconvert_exporter": "python",
   "pygments_lexer": "ipython3",
   "version": "3.7.3"
  }
 },
 "nbformat": 4,
 "nbformat_minor": 2
}
